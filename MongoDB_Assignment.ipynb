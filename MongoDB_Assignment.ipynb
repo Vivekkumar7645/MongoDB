{
  "nbformat": 4,
  "nbformat_minor": 0,
  "metadata": {
    "colab": {
      "provenance": []
    },
    "kernelspec": {
      "name": "python3",
      "display_name": "Python 3"
    },
    "language_info": {
      "name": "python"
    }
  },
  "cells": [
    {
      "cell_type": "markdown",
      "source": [
        "##Q 1. What are the key differences between SQL and NoSQL databases?\n",
        "**Ans** - Differences between **SQL** and **NoSQL** databases lie in their data models, scalability, structure, and use cases.\n",
        "\n",
        "1. **Data Model**\n",
        "* **SQL**: Relational Databases\n",
        "  * Structured data stored in tables.\n",
        "  * Relationships between tables are defined using keys.\n",
        "\n",
        "* **NoSQL**: Non-Relational or Distributed Databases\n",
        "  * Includes document, key-value, wide-column, and graph models.\n",
        "  * Flexible schema, often semi-structured or unstructured data.\n",
        "\n",
        "2. **Schema**\n",
        "* **SQL**: Fixed Schema\n",
        "  * Requires predefined schemas.\n",
        "  * Altering the schema can be complex and requires migrations.\n",
        "\n",
        "* **NoSQL**: Dynamic Schema\n",
        "  * Schema-less or flexible.\n",
        "  * Fields can vary between records.\n",
        "\n",
        "3. **Scalability**\n",
        "* **SQL**: Vertical Scaling\n",
        "  * Scaling up by increasing hardware resources on a single server.\n",
        "\n",
        "* **NoSQL**: Horizontal Scaling\n",
        "  * Scaling out by adding more servers or nodes to the database cluster.\n",
        "\n",
        "4. **Transactions**\n",
        "* **SQL**: Fully ACID-compliant\n",
        "  * Strong consistency, isolation, and durability for complex transactions.\n",
        "\n",
        "* **NoSQL**: BASE model\n",
        "  * Some support ACID, but generally prioritize availability and partition tolerance over consistency.\n",
        "\n",
        "5. **Query Language**\n",
        "* **SQL**: Uses Structured Query Language\n",
        "  * Powerful, standardized querying capabilities.\n",
        "\n",
        "* **NoSQL**: Varies by database\n",
        "  * Each NoSQL database has its own query methods.\n",
        "\n",
        "6. **Use Cases**\n",
        "* **SQL**:\n",
        "  * Traditional enterprise applications, CRM, ERP\n",
        "  * Applications with complex queries and transactional data\n",
        "\n",
        "* **NoSQL**:\n",
        "  * Real-time web apps, big data, IoT, content management\n",
        "  * Applications requiring fast development, scalability, and flexible data handling\n",
        "\n",
        "7. **Examples**\n",
        "* **SQL**:\n",
        "  * MySQL, PostgreSQL, Microsoft SQL Server, Oracle Database\n",
        "\n",
        "* **NoSQL**:\n",
        "  * MongoDB, Redis, Cassandra, Neo4j"
      ],
      "metadata": {
        "id": "n9REXezWWjhJ"
      }
    },
    {
      "cell_type": "markdown",
      "source": [
        "##Q 2. What makes MongoDB a good choice for modern applications?\n",
        "**Ans**- MongoDB is a popular **NoSQL document database** that offers several features making it a strong choice for **modern applications**, especially those requiring flexibility, scalability, and fast development.\n",
        "\n",
        "1. **Flexible Schema**\n",
        "  * MongoDB stores data in **BSON** format, allowing us to store documents with varying structures in the same collection.\n",
        "  * Perfect for **agile development** and frequent changes to the data model without downtime.\n",
        "\n",
        "2. **High Scalability**\n",
        "  * MongoDB supports **automatic sharding**, distributing data across multiple servers or clusters.\n",
        "  * Enables applications to handle large volumes of data and high user loads, ideal for cloud-native and big data applications.\n",
        "\n",
        "3. **Document-Oriented Data Model**\n",
        "  * Stores data as **JSON-like documents**, making it intuitive to work with objects in modern programming languages.\n",
        "  * Easier to represent **nested data and hierarchical relationships** compared to relational tables.\n",
        "\n",
        "4. **High Performance**\n",
        "  * Optimized for **read and write performance**.\n",
        "  * Supports **indexing**, **aggregation pipelines**, and **in-memory processing** to ensure fast queries and analytics.\n",
        "\n",
        "5. **Powerful Query Language**\n",
        "  * Supports rich and expressive queries with support for:\n",
        "    * Filtering, projections, and sorting\n",
        "    * Text search, geospatial queries\n",
        "    * Aggregation pipelines for analytics\n",
        "\n",
        "6. **Built-In Replication & High Availability**\n",
        "  * MongoDB supports **replica sets**, ensuring data redundancy and high availability.\n",
        "  * Failover happens automatically if a primary node goes down.\n",
        "\n",
        "7. **Developer-Friendly Ecosystem**\n",
        "  * Official drivers for many languages\n",
        "  * Integration with **modern frameworks**\n",
        "  * Seamless use with cloud platforms and DevOps tools\n",
        "\n",
        "8. **Strong Community & Cloud Support**\n",
        "  * **MongoDB Atlas** provides a fully managed, scalable cloud database service.\n",
        "  * Large community, extensive documentation, and active support.\n",
        "\n",
        "9. **Ideal for Modern Use Cases**\n",
        "\n",
        "MongoDB is a great choice for:\n",
        "  * Real-time analytics dashboards\n",
        "  * Mobile and web applications\n",
        "  * Content management systems\n",
        "  * IoT applications\n",
        "  * E-commerce platforms\n",
        "  * Social media and messaging apps"
      ],
      "metadata": {
        "id": "pqqrFIZMWrJx"
      }
    },
    {
      "cell_type": "markdown",
      "source": [
        "##Q 3. Explain the concept of collections in MongoDB.\n",
        "**Ans** - In **MongoDB**, a **collection** is a grouping of **documents**, and it is conceptually similar to a **table in relational databases**. However, unlike tables, collections do **not enforce a strict schema**, allowing documents within the same collection to have different structures.\n",
        "\n",
        "**Concepts of a Collection in MongoDB**\n",
        "1. **Document Container**\n",
        "  * A **collection** stores **BSON documents**.\n",
        "  * Each document is a **key-value pair** structure, similar to a JSON object.\n",
        "\n",
        "2. **Schema-Free**\n",
        "  * Collections are **schema-less**, meaning:\n",
        "\n",
        "    * Documents in the same collection can have **different fields**, **data types**, or **nested structures**.\n",
        "    * This flexibility is ideal for agile development and handling diverse or evolving data formats.\n",
        "\n",
        "3. **Naming a Collection**\n",
        "  * Collection names are **case-sensitive** and can include almost any UTF-8 character.\n",
        "  * Certain characters like `\\0` and names starting with `system.` are **reserved**.\n",
        "\n",
        "4. **Creating a Collection**\n",
        "  * Collections are typically created **implicitly** when we insert the first document.\n",
        "  * We can also create them **explicitly** using `db.createCollection()` if we want to specify options.\n",
        "\n",
        "5. **Accessing a Collection**"
      ],
      "metadata": {
        "id": "L-z0V8UrWrxJ"
      }
    },
    {
      "cell_type": "code",
      "source": [
        "// In the Mongo shell\n",
        "db.users.find()\n",
        "\n",
        "// \"users\" is the collection name"
      ],
      "metadata": {
        "id": "vqmBD3kZpzhV"
      },
      "execution_count": null,
      "outputs": []
    },
    {
      "cell_type": "markdown",
      "source": [
        "6. **Common Operations on Collections**\n",
        "  * `insertOne()` / `insertMany()` – Add documents\n",
        "  * `find()` – Query documents\n",
        "  * `updateOne()` / `updateMany()` – Modify documents\n",
        "  * `deleteOne()` / `deleteMany()` – Remove documents\n",
        "  * `createIndex()` – Create indexes for better performance\n",
        "\n",
        "**Example: Collection and Documents**\n",
        "\n",
        "**Collection Name:** `products`\n",
        "\n",
        "**Documents:**"
      ],
      "metadata": {
        "id": "rhsn8Aqqp7-U"
      }
    },
    {
      "cell_type": "code",
      "source": [
        "// Document 1\n",
        "{\n",
        "  \"_id\": 1,\n",
        "  \"name\": \"Laptop\",\n",
        "  \"price\": 75000,\n",
        "  \"brand\": \"Dell\"\n",
        "}\n",
        "\n",
        "// Document 2\n",
        "{\n",
        "  \"_id\": 2,\n",
        "  \"name\": \"Smartphone\",\n",
        "  \"brand\": \"Samsung\",\n",
        "  \"features\": [\"5G\", \"128GB Storage\"]\n",
        "}"
      ],
      "metadata": {
        "id": "wuTk1coZqkT5"
      },
      "execution_count": null,
      "outputs": []
    },
    {
      "cell_type": "markdown",
      "source": [
        "As we can see:\n",
        "* Both documents are in the **same collection** (`products`)\n",
        "* Their structure can vary\n",
        "* MongoDB handles this gracefully\n",
        "\n",
        "**Advantages of Using Collections**\n",
        "  * **Flexibility**: Store varied data without redefining schemas\n",
        "  * **Scalability**: Collections can grow very large and span multiple shards in distributed setups\n",
        "  * **Ease of Use**: No need to predefine data formats; quick iteration"
      ],
      "metadata": {
        "id": "pFxcIwA8qq5A"
      }
    },
    {
      "cell_type": "markdown",
      "source": [
        "##Q 4. How does MongoDB ensure high availability using replication?\n",
        "**Ans** - MongoDB ensures **high availability** using a mechanism called **replication**, which is implemented through **replica sets**. A replica set is a **group of MongoDB servers** that maintain the same data, providing redundancy and fault tolerance.\n",
        "\n",
        "A **replica set** consists of:\n",
        "  * **Primary node**: Accepts all write operations.\n",
        "  * **Secondary nodes**: Maintain copies of the primary's data and replicate changes using **oplog**.\n",
        "  * **Arbiter**: A node that does **not store data** but helps in **election voting** to choose a new primary.\n",
        "\n",
        "**Features of Replication in MongoDB**\n",
        "\n",
        "1. **Automatic Failover**\n",
        "  * If the **primary** becomes unavailable, an **election** is triggered among secondaries.\n",
        "  * One of the eligible secondaries is **automatically promoted to primary** within seconds, ensuring continuous availability.\n",
        "\n",
        "2. **Data Redundancy**\n",
        "  * All data is **replicated** from the primary to the secondaries.\n",
        "  * This protects against **hardware failure** or **data loss**.\n",
        "\n",
        "3. **Read Scalability**\n",
        "  * By default, all **writes go to the primary**, but we can **read from secondaries** if eventual consistency is acceptable.\n",
        "  * Use cases: analytics, reporting, backups.\n",
        "\n",
        "4. **Write Concerns & Read Preferences**\n",
        "  * We can configure **write concern** to ensure writes are acknowledged by multiple nodes.\n",
        "  * We can set **read preferences** to read from primary, secondary, or nearest node depending on consistency and latency needs.\n",
        "\n",
        "**Diagram: Simple 3-Node Replica Set**"
      ],
      "metadata": {
        "id": "RRCMGYntWsbQ"
      }
    },
    {
      "cell_type": "code",
      "source": [
        "      +------------+\n",
        "      |  Primary   |\n",
        "      +------------+\n",
        "           /  \\\n",
        "          /    \\\n",
        "         v      v\n",
        "+---------------+    +---------------+\n",
        "|  Secondary 1  |    |  Secondary 2  |\n",
        "+---------------+    +---------------+"
      ],
      "metadata": {
        "id": "ziVGtioer2YZ"
      },
      "execution_count": null,
      "outputs": []
    },
    {
      "cell_type": "markdown",
      "source": [
        "* Writes go to Primary.\n",
        "* Secondaries replicate data continuously.\n",
        "* If Primary fails, one Secondary is elected as the new Primary.\n",
        "\n",
        "**Steps in Replication Process**\n",
        "1. **Primary receives write** → adds operation to its **oplog**.\n",
        "2. **Secondaries tail the primary’s oplog** and apply changes in order.\n",
        "3. If primary fails → **election** occurs → new primary is elected.\n",
        "4. Clients are automatically **re-routed** to the new primary.\n",
        "\n",
        "**Benefits of MongoDB Replication**\n",
        "\n",
        "| Feature | Benefit |\n",
        "|-||\n",
        "| Automatic Failover | High availability without manual action |\n",
        "| Redundancy | Protection against hardware/data failure |\n",
        "| Horizontal Read Scaling | Distribute read load across secondaries |\n",
        "| Geo-Redundancy | Replicas can be placed in multiple regions for disaster recovery |\n",
        "\n",
        "**Example Configuration (Replica Set Init)**"
      ],
      "metadata": {
        "id": "2ZFlxEtMr8pi"
      }
    },
    {
      "cell_type": "code",
      "source": [
        "rs.initiate({\n",
        "  _id: \"rs0\",\n",
        "  members: [\n",
        "    { _id: 0, host: \"mongodb1:27017\" },\n",
        "    { _id: 1, host: \"mongodb2:27017\" },\n",
        "    { _id: 2, host: \"mongodb3:27017\" }\n",
        "  ]\n",
        "})"
      ],
      "metadata": {
        "id": "ZRVqYDKbtx_H"
      },
      "execution_count": null,
      "outputs": []
    },
    {
      "cell_type": "markdown",
      "source": [
        "##Q 5. What are the main benefits of MongoDB Atlas?\n",
        "**Ans** - **MongoDB Atlas** is the **fully managed cloud version of MongoDB**, and it offers a wide range of features that make deploying, managing, and scaling MongoDB much easier and more efficient for developers and businesses.\n",
        "\n",
        "**main benefits of using MongoDB Atlas**:\n",
        "\n",
        "1. **Fully Managed Service**\n",
        "  * **No server management** required — MongoDB Atlas takes care of deployment, upgrades, backups, monitoring, and patches.\n",
        "  * Saves time and reduces DevOps overhead.\n",
        "\n",
        "2. **Automated Scaling**\n",
        "  * **Vertical Scaling**: Easily increase instance size as needed.\n",
        "  * **Horizontal Scaling**: Automatically distribute data across multiple nodes to handle large datasets and traffic.\n",
        "  * **Auto-scaling**: Enables automatic resource scaling based on workload.\n",
        "\n",
        "3. **High Availability**\n",
        "  * Atlas uses **replica sets** with **automatic failover** to ensure 99.995%+ uptime.\n",
        "  * Supports **multi-region replication** for geographic redundancy and disaster recovery.\n",
        "\n",
        "4. **Global Distribution**\n",
        "  * Deploy clusters in **80+ regions** across **AWS**, **Azure**, and **Google Cloud Platform**.\n",
        "  * Store data close to users to reduce latency and improve app performance.\n",
        "\n",
        "5. **Built-In Security**\n",
        "  * End-to-end **encryption at rest and in transit**\n",
        "  * **IP whitelisting**, **VPC peering**, **role-based access control**, **LDAP/SAML integration**\n",
        "  * **Compliance certifications**: SOC 2, ISO 27001, GDPR, HIPAA\n",
        "\n",
        "6. **Automated Backups and Snapshots**\n",
        "  * Continuous and point-in-time backups\n",
        "  * Easy recovery and restore with minimal effort\n",
        "\n",
        "7. **Real-Time Performance Monitoring**\n",
        "  * Built-in dashboard for metrics like:\n",
        "    * Query performance\n",
        "    * Read/write latency\n",
        "    * CPU/RAM usage\n",
        "  * Allows fine-tuning and quick debugging\n",
        "\n",
        "8. **Serverless and Data API Options**\n",
        "  * **Atlas Data API** lets us interact with our database over HTTPS without managing drivers.\n",
        "  * **Serverless instances** scale to zero automatically — ideal for infrequent workloads or prototypes.\n",
        "\n",
        "9. **Integrated Search and Analytics**\n",
        "  * **Atlas Search**: Built on Apache Lucene, allows full-text search with powerful indexing and ranking.\n",
        "  * **Atlas Charts**: Native data visualization tool.\n",
        "  * Integrates with **BI tools** and **Data Lakes** for analytics on live or archived data.\n",
        "\n",
        "10. **Developer-Friendly Tools**\n",
        "  * Integrates with MongoDB Compass, VS Code, Realm, and CLI tools.\n",
        "  * Access through Atlas UI or programmatically via APIs and SDKs.\n",
        "  * Supports modern development stacks: MERN, MEAN, JAMstack, etc.\n",
        "\n",
        "11. **Free Tier for Learning and Prototyping**\n",
        "  * Offers a **free shared cluster** with limited resources:\n",
        "    * Good for small apps, demos, or learning MongoDB"
      ],
      "metadata": {
        "id": "9VREsjdpWstJ"
      }
    },
    {
      "cell_type": "markdown",
      "source": [
        "##Q 6. What is the role of indexes in MongoDB, and how do they improve performance?\n",
        "**Ans** - Indexes play a **crucial role in MongoDB** by significantly improving the **performance** of query operations. Without indexes, MongoDB has to **scan every document** in a collection to find those that match a query — a process known as a **collection scan**.\n",
        "\n",
        "An **index** in MongoDB is a **data structure** that stores a **subset of fields** from the documents in a collection in a sorted order. This allows MongoDB to efficiently **search, sort, and filter** through data.\n",
        "\n",
        "**Benefits of Using Indexes**\n",
        "1. **Faster Query Performance**\n",
        "  * Indexes allow MongoDB to quickly **locate matching documents** without scanning the entire collection.\n",
        "  * Especially useful in large datasets where full scans would be too slow.\n",
        "\n",
        "2. **Efficient Sorting**\n",
        "  * If the query uses a **sort** on an indexed field, MongoDB can return sorted results **without additional computation**.\n",
        "\n",
        "3. **Support for Uniqueness**\n",
        "  * **Unique indexes** enforce data integrity by preventing duplicate values for the indexed field.\n",
        "\n",
        "4. **Improved Aggregation Performance**\n",
        "  * Indexes speed up **match** and **sort** stages of aggregation pipelines.\n",
        "\n",
        "5. **Support for Geospatial and Text Queries**\n",
        "  * MongoDB supports **2D/2DSphere indexes** for geospatial data and **text indexes** for full-text search.\n",
        "\n",
        "**Types of Indexes in MongoDB**\n",
        "\n",
        "| Index Type | Description |\n",
        "|-||\n",
        "| **Single Field** | Index on one field (e.g., `name`) |\n",
        "| **Compound** | Index on multiple fields (e.g., `firstName`, `lastName`) |\n",
        "| **Multikey** | Automatically created for arrays |\n",
        "| **Text Index** | Supports text search across string fields |\n",
        "| **Hashed Index** | Used for sharded clusters (hashed sharding key) |\n",
        "| **Geospatial Index** | Enables geospatial queries (`2d` or `2dsphere`) |\n",
        "| **Wildcard Index** | Automatically indexes all fields or specific patterns in documents |\n",
        "| **Unique Index** | Ensures values are unique across the collection |\n",
        "\n",
        "**Example: Creating an Index**"
      ],
      "metadata": {
        "id": "L9HT4_UCWs8q"
      }
    },
    {
      "cell_type": "code",
      "source": [
        "// Create a single-field index\n",
        "db.users.createIndex({ email: 1 })\n",
        "\n",
        "// Create a compound index\n",
        "db.orders.createIndex({ customerId: 1, orderDate: -1 })\n",
        "\n",
        "// Create a text index\n",
        "db.articles.createIndex({ title: \"text\", content: \"text\" })"
      ],
      "metadata": {
        "id": "lySltPPyxJj1"
      },
      "execution_count": null,
      "outputs": []
    },
    {
      "cell_type": "markdown",
      "source": [
        "**Indexes Work Internally**\n",
        "1. MongoDB maintains an index as a **sorted data structure**.\n",
        "2. When a query is issued, MongoDB checks if a suitable index exists.\n",
        "3. If yes, it uses the index to **narrow down matching documents quickly**.\n",
        "4. If not, it performs a **collection scan**, which is slower.\n",
        "\n",
        "**Viewing and Managing Indexes**\n",
        "  * View indexes on a collection:"
      ],
      "metadata": {
        "id": "jqnb3_-gxOCL"
      }
    },
    {
      "cell_type": "code",
      "source": [
        "db.collection.getIndexes()"
      ],
      "metadata": {
        "id": "lqZlp9JGx0ao"
      },
      "execution_count": null,
      "outputs": []
    },
    {
      "cell_type": "markdown",
      "source": [
        "* Drop an index:"
      ],
      "metadata": {
        "id": "0tj0gCqBx5fv"
      }
    },
    {
      "cell_type": "code",
      "source": [
        "db.collection.dropIndex(\"index_name\")"
      ],
      "metadata": {
        "id": "ASqLkt9Rx-tu"
      },
      "execution_count": null,
      "outputs": []
    },
    {
      "cell_type": "markdown",
      "source": [
        "* Drop all indexes:"
      ],
      "metadata": {
        "id": "D-mD5EYkyUOF"
      }
    },
    {
      "cell_type": "code",
      "source": [
        "db.collection.dropIndexes()"
      ],
      "metadata": {
        "id": "ntTe8VOQyZWc"
      },
      "execution_count": null,
      "outputs": []
    },
    {
      "cell_type": "markdown",
      "source": [
        "**Important Considerations**\n",
        "  * **Too many indexes** can slow down write operations (inserts/updates) because MongoDB must also update the indexes.\n",
        "  * Always **analyze our queries** using:"
      ],
      "metadata": {
        "id": "1R0lzkDsydJ0"
      }
    },
    {
      "cell_type": "code",
      "source": [
        "db.collection.find({...}).explain(\"executionStats\")"
      ],
      "metadata": {
        "id": "tjGOJzNcynTb"
      },
      "execution_count": null,
      "outputs": []
    },
    {
      "cell_type": "markdown",
      "source": [
        "* Use **indexing strategically** based on access patterns, query frequency, and data volume."
      ],
      "metadata": {
        "id": "j1DFS776yryV"
      }
    },
    {
      "cell_type": "markdown",
      "source": [
        "##Q 7. Describe the stages of the MongoDB aggregation pipeline.\n",
        "**Ans** - The **MongoDB Aggregation Pipeline** is a powerful framework used to process and transform data from collections in stages. Each stage performs a specific operation on the input documents and passes the results to the next stage, allowing complex data transformations similar to SQL `GROUP BY`, `JOIN`, `WHERE`, and even custom computations.\n",
        "\n",
        "**Overview: An Aggregation is Pipeline**\n",
        "  * An aggregation pipeline is an **array of stages**.\n",
        "  * Each stage **takes input documents**, **transforms them**, and **outputs new documents**.\n",
        "  * Think of it like a **conveyor belt** where each step adds, filters, groups, or reshapes data.\n",
        "\n",
        "**Common Stages in the Aggregation Pipeline**\n",
        "1. **`$match`** - Filter Documents\n",
        "  * Filters the documents to pass only those that match the condition.\n",
        "  * Should be used **early** to reduce the amount of data processed in later stages."
      ],
      "metadata": {
        "id": "lb2rxRsCWtN5"
      }
    },
    {
      "cell_type": "code",
      "source": [
        "{ $match: { status: \"active\" } }"
      ],
      "metadata": {
        "id": "jF-7Pry2zK-J"
      },
      "execution_count": null,
      "outputs": []
    },
    {
      "cell_type": "markdown",
      "source": [
        "2. **`$project`** – Reshape Each Document\n",
        "  * Used to include, exclude, or compute new fields.\n",
        "  * Can also rename or reformat fields."
      ],
      "metadata": {
        "id": "0BUIzjGfzQ4v"
      }
    },
    {
      "cell_type": "code",
      "source": [
        "{ $project: { name: 1, email: 1, fullName: { $concat: [\"$firstName\", \" \", \"$lastName\"] } } }"
      ],
      "metadata": {
        "id": "hwZabpZ79ufo"
      },
      "execution_count": null,
      "outputs": []
    },
    {
      "cell_type": "markdown",
      "source": [
        "3. **`$group`** - Group Documents by a Field\n",
        "  * Aggregates documents by a specified key and computes values like `sum`, `avg`, `count`."
      ],
      "metadata": {
        "id": "Kj9AWekX94DZ"
      }
    },
    {
      "cell_type": "code",
      "source": [
        "{\n",
        "  $group: {\n",
        "    _id: \"$category\",\n",
        "    totalSales: { $sum: \"$amount\" }\n",
        "  }\n",
        "}"
      ],
      "metadata": {
        "id": "2EHP01AM-Dxm"
      },
      "execution_count": null,
      "outputs": []
    },
    {
      "cell_type": "markdown",
      "source": [
        "4. **`$sort`** – Sort Documents\n",
        "  * Sorts the documents in ascending (`1`) or descending (`-1`) order."
      ],
      "metadata": {
        "id": "BtgYobjT-UnV"
      }
    },
    {
      "cell_type": "code",
      "source": [
        "{ $sort: { createdAt: -1 } }"
      ],
      "metadata": {
        "id": "h5nbcG_y-heE"
      },
      "execution_count": null,
      "outputs": []
    },
    {
      "cell_type": "markdown",
      "source": [
        "5. **`$limit`** – Limit Number of Documents\n",
        "  * Restricts the number of documents that pass to the next stage."
      ],
      "metadata": {
        "id": "hkwI9VW4-p1L"
      }
    },
    {
      "cell_type": "code",
      "source": [
        "{ $limit: 10 }"
      ],
      "metadata": {
        "id": "DzPy7NfN-1uz"
      },
      "execution_count": null,
      "outputs": []
    },
    {
      "cell_type": "markdown",
      "source": [
        "6. **`$skip`** – Skip Documents\n",
        "  * Skips a specified number of documents (used with `$limit` for pagination)."
      ],
      "metadata": {
        "id": "HjgxSJvm-79i"
      }
    },
    {
      "cell_type": "code",
      "source": [
        "{ $skip: 10 }"
      ],
      "metadata": {
        "id": "rA3xc9Ov_DcQ"
      },
      "execution_count": null,
      "outputs": []
    },
    {
      "cell_type": "markdown",
      "source": [
        "7. **`$unwind`** – Deconstruct Arrays\n",
        "  * Breaks up an array field so that each element becomes a separate document."
      ],
      "metadata": {
        "id": "sZW3b2A-_J9R"
      }
    },
    {
      "cell_type": "code",
      "source": [
        "{ $unwind: \"$tags\" }"
      ],
      "metadata": {
        "id": "o0UgqLJ8_SFh"
      },
      "execution_count": null,
      "outputs": []
    },
    {
      "cell_type": "markdown",
      "source": [
        "8. **`$lookup`** – Perform Joins (Like SQL JOIN)\n",
        "  * Joins documents from another collection.\n"
      ],
      "metadata": {
        "id": "T3Z0ltcP_X9X"
      }
    },
    {
      "cell_type": "code",
      "source": [
        "{\n",
        "  $lookup: {\n",
        "    from: \"orders\",\n",
        "    localField: \"_id\",\n",
        "    foreignField: \"userId\",\n",
        "    as: \"userOrders\"\n",
        "  }\n",
        "}"
      ],
      "metadata": {
        "id": "2N-lAV1M_jEP"
      },
      "execution_count": null,
      "outputs": []
    },
    {
      "cell_type": "markdown",
      "source": [
        "9. **`$addFields`** – Add or Modify Fields\n",
        "  * Similar to `$project`, but used to **add fields without replacing existing ones**."
      ],
      "metadata": {
        "id": "rvtyLR-QCt9n"
      }
    },
    {
      "cell_type": "code",
      "source": [
        "{ $addFields: { discount: { $multiply: [\"$price\", 0.1] } } }"
      ],
      "metadata": {
        "id": "2gZRB8GvC1SV"
      },
      "execution_count": null,
      "outputs": []
    },
    {
      "cell_type": "markdown",
      "source": [
        "10. **`$count`** – Count Number of Documents\n",
        "  * Outputs a single document with a count of the number of documents processed."
      ],
      "metadata": {
        "id": "sCZAzkLVC7lk"
      }
    },
    {
      "cell_type": "code",
      "source": [
        "{ $count: \"total\" }"
      ],
      "metadata": {
        "id": "9pdV-3oEDCOU"
      },
      "execution_count": null,
      "outputs": []
    },
    {
      "cell_type": "markdown",
      "source": [
        "11. **`$facet`** – Run Multiple Pipelines in Parallel\n",
        "  * Allows multiple aggregations to run on the same input set, often for reporting or analytics."
      ],
      "metadata": {
        "id": "kUvuIemFDI7-"
      }
    },
    {
      "cell_type": "code",
      "source": [
        "{\n",
        "  $facet: {\n",
        "    byCategory: [ { $group: { _id: \"$category\", count: { $sum: 1 } } } ],\n",
        "    topSales: [ { $sort: { amount: -1 } }, { $limit: 5 } ]\n",
        "  }\n",
        "}"
      ],
      "metadata": {
        "id": "4W4BCaVmDQmD"
      },
      "execution_count": null,
      "outputs": []
    },
    {
      "cell_type": "markdown",
      "source": [
        "### 12. **`$merge` / `$out`** – Store Results in a Collection\n",
        "  * Writes the output to a new or existing collection."
      ],
      "metadata": {
        "id": "w-CsSPcXDVMB"
      }
    },
    {
      "cell_type": "code",
      "source": [
        "{ $out: \"reportResults\" }"
      ],
      "metadata": {
        "id": "ENLleQVQDbXp"
      },
      "execution_count": null,
      "outputs": []
    },
    {
      "cell_type": "markdown",
      "source": [
        "**Example: Aggregation Pipeline in Action**"
      ],
      "metadata": {
        "id": "I_wwWjOdDiUR"
      }
    },
    {
      "cell_type": "code",
      "source": [
        "db.orders.aggregate([\n",
        "  { $match: { status: \"confirmed\" } },\n",
        "  { $group: { _id: \"$customerId\", totalSpent: { $sum: \"$amount\" } } },\n",
        "  { $sort: { totalSpent: -1 } },\n",
        "  { $limit: 5 }\n",
        "])"
      ],
      "metadata": {
        "id": "hSebLt4WDqFP"
      },
      "execution_count": null,
      "outputs": []
    },
    {
      "cell_type": "markdown",
      "source": [
        "**What it does**:\n",
        "Filters confirmed orders → groups by customer → sums their spend → sorts descending → returns top 5 spenders.\n",
        "\n",
        "**Summary Table: Aggregation Stages**\n",
        "\n",
        "| Stage | Purpose |\n",
        "|-||\n",
        "| `$match` | Filter documents |\n",
        "| `$project` | Shape/format documents |\n",
        "| `$group` | Aggregate by a key |\n",
        "| `$sort` | Sort documents |\n",
        "| `$limit` | Restrict number of documents |\n",
        "| `$skip` | Skip documents (for pagination) |\n",
        "| `$unwind` | Split arrays into multiple documents |\n",
        "| `$lookup` | Join with other collections |\n",
        "| `$addFields` | Add or modify fields |\n",
        "| `$count` | Count the number of documents |\n",
        "| `$facet` | Run multiple aggregations in parallel |\n",
        "| `$out` | Output results to a collection |"
      ],
      "metadata": {
        "id": "qO-sOs3ADumI"
      }
    },
    {
      "cell_type": "markdown",
      "source": [
        "##Q 8 What is sharding in MongoDB? How does it differ from replication?\n",
        "**Ans** - **Sharding** in MongoDB is a method of **horizontal scaling** used to handle **large datasets** and **high-throughput applications** by distributing data across multiple machines or clusters.\n",
        "\n",
        "Although **sharding** and **replication** both involve multiple MongoDB servers and improve performance and reliability, they serve **different purposes**.\n",
        "\n",
        "**Sharding** is the process of **splitting data across multiple servers** so that each server stores only a portion of the data.\n",
        "\n",
        "**Components of a Sharded Cluster:**\n",
        "1. **Shards**: The actual data storage nodes; each shard holds a subset of the data.\n",
        "2. **Mongos**: The **query router** — routes queries to the appropriate shard.\n",
        "3. **Config Servers**: Store metadata and configuration about the cluster.\n",
        "\n",
        "**Use of Sharding**\n",
        "* To **scale horizontally** as data grows beyond the capacity of a single server.\n",
        "* To **improve performance** by parallelizing query execution and data storage.\n",
        "* To avoid performance bottlenecks and storage limits.\n",
        "\n",
        "**Sharding Working**\n",
        "1. We define a **shard key**.\n",
        "2. MongoDB partitions the data based on this key using **ranges** or **hashed values**.\n",
        "3. Data is then distributed across multiple shards accordingly.\n",
        "4. When we query, **mongos** determines which shard contain relevant data.\n",
        "\n",
        "**Example: Sharded Collection**\n",
        "\n",
        "If we shard a `users` collection on the key `region`, the data might be divided as:\n",
        "  * Shard A: users from North and East\n",
        "  * Shard B: users from South and West\n",
        "  * Shard C: users from Central\n",
        "\n",
        "**Replication**\n",
        "\n",
        "**Replication** is the process of maintaining **identical copies** of our data across multiple MongoDB servers to ensure **high availability** and **data redundancy**.\n",
        "\n",
        "**Features:**\n",
        "  * One **primary node** handles all writes.\n",
        "  * **Secondary nodes** replicate data from the primary.\n",
        "  * If the primary fails, an **election** promotes a secondary to primary.\n",
        "\n",
        "**Sharding vs Replication: Differences**\n",
        "\n",
        "| Feature | **Sharding** | **Replication** |\n",
        "|-|||\n",
        "| **Purpose** | **Scalability** – distribute data | **Availability & redundancy** – duplicate data |\n",
        "| **Data Distribution** | Each shard holds a **subset** of data | Each replica holds a **full copy** of the data |\n",
        "| **Scaling** | **Horizontal scaling** (more shards = more data) | Limited scaling; mostly **vertical** |\n",
        "| **Use Case** | Handling **big data**, **high throughput** apps | Ensuring **uptime**, **backup**, **failover support** |\n",
        "| **Failure Handling** | May lose part of data if a shard fails (no replica) | Seamless failover to secondaries if primary fails |\n",
        "| **Components** | Shards, mongos, config servers | Primary, secondaries, optional arbiter |\n",
        "| **Query Routing**  | Queries go through **mongos**                       | Queries go to **primary** (writes) or secondaries (reads) |"
      ],
      "metadata": {
        "id": "bun3zwrXWtdp"
      }
    },
    {
      "cell_type": "markdown",
      "source": [
        "##Q 9 What is PyMongo, and why is it used?\n",
        "**Ans** - **PyMongo** is the **official Python driver for MongoDB**, developed and maintained by MongoDB Inc. It allows Python applications to **connect to, interact with, and manipulate** MongoDB databases programmatically.\n",
        "\n",
        "**Use of PyMongo**\n",
        "\n",
        "PyMongo provides a **simple and intuitive API** for performing all the essential MongoDB operations, such as:\n",
        "* Connecting to MongoDB\n",
        "* Inserting, querying, updating, and deleting documents\n",
        "* Creating indexes\n",
        "* Performing aggregation pipelines\n",
        "* Managing databases and collections\n",
        "\n",
        "**Features of PyMongo**\n",
        "\n",
        "1. **Easy Connection to MongoDB**\n",
        "* Connect to local or remote MongoDB instances, including **MongoDB Atlas**."
      ],
      "metadata": {
        "id": "YRl_Zk3VWttp"
      }
    },
    {
      "cell_type": "code",
      "source": [
        "from pymongo import MongoClient\n",
        "client = MongoClient(\"mongodb://localhost:27017/\")"
      ],
      "metadata": {
        "id": "wVTQrZzNRakL"
      },
      "execution_count": null,
      "outputs": []
    },
    {
      "cell_type": "markdown",
      "source": [
        "2. **CRUD Operations**\n",
        "\n",
        "Perform **Create, Read, Update, and Delete** operations using simple Python methods."
      ],
      "metadata": {
        "id": "dDDDyijmRm6p"
      }
    },
    {
      "cell_type": "code",
      "source": [
        "# Access database and collection\n",
        "db = client['mydatabase']\n",
        "collection = db['users']\n",
        "\n",
        "# Insert a document\n",
        "collection.insert_one({\"name\": \"Alice\", \"age\": 25})\n",
        "\n",
        "# Query documents\n",
        "user = collection.find_one({\"name\": \"Alice\"})\n",
        "\n",
        "# Update a document\n",
        "collection.update_one({\"name\": \"Alice\"}, {\"$set\": {\"age\": 26}})\n",
        "\n",
        "# Delete a document\n",
        "collection.delete_one({\"name\": \"Alice\"})"
      ],
      "metadata": {
        "id": "zlm5PPAQVsEX"
      },
      "execution_count": null,
      "outputs": []
    },
    {
      "cell_type": "markdown",
      "source": [
        "3. **Support for Aggregation Pipeline**\n",
        "\n",
        "Run powerful aggregation queries directly from Python."
      ],
      "metadata": {
        "id": "-jlKSmnkVzQG"
      }
    },
    {
      "cell_type": "code",
      "source": [
        "pipeline = [\n",
        "    { \"$match\": { \"status\": \"active\" } },\n",
        "    { \"$group\": { \"_id\": \"$department\", \"count\": { \"$sum\": 1 } } }\n",
        "]\n",
        "result = collection.aggregate(pipeline)"
      ],
      "metadata": {
        "id": "1rIiLWC_WBQu"
      },
      "execution_count": null,
      "outputs": []
    },
    {
      "cell_type": "markdown",
      "source": [
        "4. **Index Management**\n",
        "\n",
        "Create and manage indexes to optimize performance."
      ],
      "metadata": {
        "id": "W8b8RVWgWJH8"
      }
    },
    {
      "cell_type": "code",
      "source": [
        "collection.create_index(\"email\", unique=True)"
      ],
      "metadata": {
        "id": "2f_UozPtWNN1"
      },
      "execution_count": null,
      "outputs": []
    },
    {
      "cell_type": "markdown",
      "source": [
        "5. **BSON Support**\n",
        "\n",
        "PyMongo uses **BSON** internally, the same format used by MongoDB, enabling support for advanced data types like `ObjectId`, `datetime`, `binary`, etc.\n",
        "\n",
        "6. **Asynchronous Support**\n",
        "\n",
        "For async applications, you can use **Motor**, the asynchronous version of PyMongo.\n",
        "\n",
        "**When we should use PyMongo**\n",
        "* We're building a **Python application** that interacts with MongoDB.\n",
        "* We need to store or retrieve **structured or semi-structured data**.\n",
        "* We're using **MongoDB as our primary database** and want to leverage Python's simplicity."
      ],
      "metadata": {
        "id": "VSL_LMluWSEk"
      }
    },
    {
      "cell_type": "markdown",
      "source": [
        "##Q 10. What are the ACID properties in the context of MongoDB transactions?\n",
        "**Ans** - In **MongoDB transactions**, **ACID** properties ensure that database operations are **reliable, consistent, and safe**, even in the event of failures or concurrent access. This is especially important in multi-document transactions or when working with financial, inventory, or mission-critical data.\n",
        "\n",
        "**A — Atomicity**\n",
        "\n",
        "**All-or-nothing execution** of a transaction.\n",
        "* In MongoDB, **either all operations in a transaction succeed or none of them are applied**.\n",
        "* If an error occurs, the transaction is **aborted**, and all changes are rolled back.\n",
        "* Ensures **no partial updates** occur, preventing data corruption.\n",
        "\n",
        "Example: Transferring money between two accounts — both the debit and credit must succeed together.\n",
        "\n",
        "**C — Consistency**\n",
        "\n",
        "The database must remain in a **valid state before and after** a transaction.\n",
        "\n",
        "* MongoDB enforces **schema and data rules**.\n",
        "* If a transaction would violate data integrity or constraints, it is **aborted**.\n",
        "* Ensures application logic and business rules are **always respected**.\n",
        "\n",
        "**I — Isolation**\n",
        "\n",
        "**Concurrent transactions** must not interfere with each other.\n",
        "\n",
        "* MongoDB provides **snapshot isolation**:\n",
        "\n",
        "  * Each transaction sees a **consistent snapshot of the data** at the start.\n",
        "  * Other writes are **invisible** until the transaction commits.\n",
        "* Prevents issues like **dirty reads**, **non-repeatable reads**, and **phantoms**.\n",
        "\n",
        "**D — Durability**\n",
        "\n",
        "Once a transaction is **committed**, the changes are **permanently saved** — even in the event of a crash or power failure.\n",
        "\n",
        "* MongoDB writes transaction data to disk using **journal files**.\n",
        "* Ensures that committed data is **never lost**, even during system failures.\n",
        "\n",
        "**ACID in MongoDB:**\n",
        "* **Single-document operations** in MongoDB have always been **atomic**, even without explicit transactions.\n",
        "* **Multi-document ACID transactions** were introduced in:\n",
        "\n",
        "  * **MongoDB 4.0** for replica sets\n",
        "  * **MongoDB 4.2** for sharded clusters\n",
        "\n",
        "**Example of a Multi-Document Transaction:**"
      ],
      "metadata": {
        "id": "Hrx4bHPPWt8h"
      }
    },
    {
      "cell_type": "code",
      "source": [
        "with client.start_session() as session:\n",
        "    with session.start_transaction():\n",
        "        accounts.update_one({\"_id\": \"A\"}, {\"$inc\": {\"balance\": -100}}, session=session)\n",
        "        accounts.update_one({\"_id\": \"B\"}, {\"$inc\": {\"balance\": 100}}, session=session)"
      ],
      "metadata": {
        "id": "X94ufL_zYkYc"
      },
      "execution_count": null,
      "outputs": []
    },
    {
      "cell_type": "markdown",
      "source": [
        "##Q 11. What is the purpose of MongoDB’s explain() function?\n",
        "**Ans** - The purpose of MongoDB’s **`explain()`** function is to help us to **analyze and optimize query performance** by showing **how MongoDB executes a query**. It provides detailed information about the query execution plan, including:\n",
        "* Whether indexes are used\n",
        "* How many documents were scanned\n",
        "* Execution time\n",
        "* Query stages involved\n",
        "\n",
        "**Use `explain()`**\n",
        "\n",
        "It is especially useful for:\n",
        "\n",
        "* **Performance tuning**\n",
        "* **Index optimization**\n",
        "* Understanding **why a query is slow**\n",
        "* **Comparing different query strategies**\n",
        "\n",
        "**Syntax**"
      ],
      "metadata": {
        "id": "5DfIRTvXWuM5"
      }
    },
    {
      "cell_type": "code",
      "source": [
        "db.collection.find(query).explain()"
      ],
      "metadata": {
        "id": "NLWPnSlaY5Im"
      },
      "execution_count": null,
      "outputs": []
    },
    {
      "cell_type": "markdown",
      "source": [
        "We can also specify verbosity levels:"
      ],
      "metadata": {
        "id": "j9MohBu8Y97G"
      }
    },
    {
      "cell_type": "code",
      "source": [
        "db.collection.find(query).explain(\"queryPlanner\")   // Default\n",
        "db.collection.find(query).explain(\"executionStats\") // Includes run stats\n",
        "db.collection.find(query).explain(\"allPlansExecution\") // Most detailed"
      ],
      "metadata": {
        "id": "beHvNxHIZJxm"
      },
      "execution_count": null,
      "outputs": []
    },
    {
      "cell_type": "markdown",
      "source": [
        "**Output Fields**\n",
        "\n",
        "| Field | Description |\n",
        "|-||\n",
        "| `queryPlanner` | Shows the query plan, stages, and indexes used |\n",
        "| `winningPlan` | The plan that MongoDB chose to execute the query |\n",
        "| `stage` | The execution stage (e.g., `COLLSCAN`, `IXSCAN`, `FETCH`) |\n",
        "| `indexName` | Name of the index used (if any) |\n",
        "| `nReturned` | Number of documents returned |\n",
        "| `totalDocsExamined`   | Number of documents scanned in total |\n",
        "| `totalKeysExamined` | Number of index entries scanned |\n",
        "| `executionTimeMillis` | Time taken to execute the query |\n",
        "\n",
        "**Example: Basic Usage**"
      ],
      "metadata": {
        "id": "WJZb5qvVZPfU"
      }
    },
    {
      "cell_type": "code",
      "source": [
        "db.users.find({ age: 25 }).explain(\"executionStats\")"
      ],
      "metadata": {
        "id": "umiMARaOZ0aF"
      },
      "execution_count": null,
      "outputs": []
    },
    {
      "cell_type": "markdown",
      "source": [
        "**Output:**"
      ],
      "metadata": {
        "id": "2af9i3BQaBVG"
      }
    },
    {
      "cell_type": "code",
      "source": [
        "{\n",
        "  \"queryPlanner\": {\n",
        "    \"winningPlan\": {\n",
        "      \"stage\": \"IXSCAN\",\n",
        "      \"indexName\": \"age_1\"\n",
        "    }\n",
        "  },\n",
        "  \"executionStats\": {\n",
        "    \"nReturned\": 5,\n",
        "    \"totalKeysExamined\": 5,\n",
        "    \"totalDocsExamined\": 5,\n",
        "    \"executionTimeMillis\": 1\n",
        "  }\n",
        "}"
      ],
      "metadata": {
        "id": "QxHYkvPaaFAF"
      },
      "execution_count": null,
      "outputs": []
    },
    {
      "cell_type": "markdown",
      "source": [
        "**Interpretation**:\n",
        "* MongoDB used the `age_1` index.\n",
        "* It scanned 5 index keys and 5 documents to return 5 results.\n",
        "* Very efficient!\n",
        "\n",
        "**Common Stages We'll See**\n",
        "\n",
        "| Stage | Meaning |\n",
        "|-||\n",
        "| `COLLSCAN` | Collection scan — no index used (slow) |\n",
        "| `IXSCAN` | Index scan — index was used (fast) |\n",
        "| `FETCH` | Retrieved documents after index match |\n",
        "| `SORT` | Sorting stage (can be slow if no index) |\n",
        "\n",
        "**Best Practices Using `explain()`**\n",
        "* Use `COLLSCAN` results as red flags — consider creating indexes.\n",
        "* Use `executionStats` to measure **real performance impact**.\n",
        "* Regularly run `explain()` on frequently-used or slow queries."
      ],
      "metadata": {
        "id": "CdQu4cv3aKxc"
      }
    },
    {
      "cell_type": "markdown",
      "source": [
        "##Q 12. How does MongoDB handle schema validation?\n",
        "**Ans** - MongoDB is traditionally known as a **schema-less** database, but it **does support schema validation** to enforce **data integrity** when needed. This allows developers to define **rules** for the structure and contents of documents within a collection.\n",
        "\n",
        "Schema validation in MongoDB allows us to **define rules** using a **JSON Schema** syntax. These rules can restrict:\n",
        "* Required fields\n",
        "* Data types\n",
        "* Field value ranges or patterns\n",
        "* Allowed enum values\n",
        "* Field structures\n",
        "\n",
        "MongoDB enforces validation **when documents are inserted or updated**.\n",
        "\n",
        "**Define Schema Validation**\n",
        "\n",
        "We can add schema validation using the `validator` option when creating or modifying a collection.\n",
        "\n",
        "**Example: Require `name` and `age` fields**"
      ],
      "metadata": {
        "id": "D4ExVEESWucy"
      }
    },
    {
      "cell_type": "code",
      "source": [
        "db.createCollection(\"users\", {\n",
        "  validator: {\n",
        "    $jsonSchema: {\n",
        "      bsonType: \"object\",\n",
        "      required: [\"name\", \"age\"],\n",
        "      properties: {\n",
        "        name: {\n",
        "          bsonType: \"string\",\n",
        "          description: \"must be a string and is required\"\n",
        "        },\n",
        "        age: {\n",
        "          bsonType: \"int\",\n",
        "          minimum: 18,\n",
        "          description: \"must be an integer >= 18 and is required\"\n",
        "        }\n",
        "      }\n",
        "    }\n",
        "  }\n",
        "})"
      ],
      "metadata": {
        "id": "bXtWHGeXbZeC"
      },
      "execution_count": null,
      "outputs": []
    },
    {
      "cell_type": "markdown",
      "source": [
        "**Validator Levels**\n",
        "\n",
        "We can control how strictly MongoDB enforces the rules with `validationLevel` and `validationAction`.\n",
        "\n",
        "| Option | Values | Description |\n",
        "|-|||\n",
        "| `validationLevel` | `\"strict\"` (default), `\"moderate\"` | Determines which documents are validated (new/updated only, or all) |\n",
        "| `validationAction` | `\"error\"` (default), `\"warn\"` | Whether to **reject** invalid documents or **log a warning** |\n",
        "\n",
        "**Example:**"
      ],
      "metadata": {
        "id": "F-PtbolUbe4Z"
      }
    },
    {
      "cell_type": "code",
      "source": [
        "db.runCommand({\n",
        "  collMod: \"users\",\n",
        "  validator: { /* schema here */ },\n",
        "  validationLevel: \"moderate\",\n",
        "  validationAction: \"warn\"\n",
        "})"
      ],
      "metadata": {
        "id": "xVEAvWyTcB-L"
      },
      "execution_count": null,
      "outputs": []
    },
    {
      "cell_type": "markdown",
      "source": [
        "**Benefits of Schema Validation**\n",
        "\n",
        "* **Data integrity**: Prevents bad or malformed data from entering the database.\n",
        "* **Consistency**: Ensures all documents follow a predictable structure.\n",
        "* **Flexibility**: Unlike SQL, you can still keep optional fields or allow loose validation.\n",
        "* **Documentation**: The schema itself acts as documentation for developers.\n",
        "\n",
        "**Caveats and Considerations**\n",
        "\n",
        "* Validation rules **do not affect existing documents** unless you manually revalidate them.\n",
        "* Too strict validation may cause insert/update failures if not properly planned.\n",
        "* Avoid overly complex schemas that could affect performance."
      ],
      "metadata": {
        "id": "EfulBncGcIr6"
      }
    },
    {
      "cell_type": "markdown",
      "source": [
        "##Q 13. What is the difference between a primary and a secondary node in a replica set?\n",
        "**Ans** -In a **MongoDB replica set**, the **primary** and **secondary** nodes serve distinct but complementary roles to ensure **high availability**, **fault tolerance**, and **data redundancy**.\n",
        "\n",
        "**Key Differences Between Primary and Secondary Nodes**\n",
        "\n",
        "| Feature | **Primary Node** | **Secondary Node(s)** |\n",
        "|-|||\n",
        "| **Role** | Main node that handles **all write operations** | Backup node(s) that **replicate data** from primary |\n",
        "| **Write Capability** | Accepts **write and read** operations | Accepts **read** operations (if configured), no writes |\n",
        "| **Election Priority** | Can be elected as primary | Can be promoted to primary via election |\n",
        "| **Data Source** | Original source of data changes | Pulls and applies changes from primary’s **oplog** |\n",
        "| **Failure Handling** | If fails, a new primary is elected | One may become the new primary |\n",
        "| **Read Preference** | Clients read from primary by default | Can be used for reads if `readPreference` is set |\n",
        "\n",
        "1. **Primary Node**\n",
        "* The **only node** in the replica set that receives **write operations**.\n",
        "* Maintains an **oplog** to record all changes.\n",
        "* Secondaries **replicate** this oplog to stay in sync.\n",
        "\n",
        "**Example:**"
      ],
      "metadata": {
        "id": "b9W35bcKWutq"
      }
    },
    {
      "cell_type": "code",
      "source": [
        "db.collection.insertOne({ name: \"Alice\" })  // Sent to primary"
      ],
      "metadata": {
        "id": "XLTFZzIndDVC"
      },
      "execution_count": null,
      "outputs": []
    },
    {
      "cell_type": "markdown",
      "source": [
        "2. **Secondary Node(s)**\n",
        "\n",
        "* **Replica(s)** of the primary — they maintain **identical copies** of the data.\n",
        "* Continuously **sync with the primary's oplog**.\n",
        "* Can be configured to accept **read operations** for **load balancing** or **geographic distribution**.\n",
        "\n",
        "**Example Read from Secondary:**"
      ],
      "metadata": {
        "id": "N80T8p0GdIDR"
      }
    },
    {
      "cell_type": "code",
      "source": [
        "db.getMongo().setReadPref(\"secondary\")\n",
        "db.collection.find({ name: \"Alice\" })"
      ],
      "metadata": {
        "id": "yVNlWdoddOvx"
      },
      "execution_count": null,
      "outputs": []
    },
    {
      "cell_type": "markdown",
      "source": [
        "**Failover and Elections**\n",
        "* If the **primary fails**, the replica set **automatically elects a new primary** from the eligible secondaries.\n",
        "* This ensures **high availability** with **minimal downtime**."
      ],
      "metadata": {
        "id": "P0UIDbX5dTbK"
      }
    },
    {
      "cell_type": "markdown",
      "source": [
        "##Q 14. What security mechanisms does MongoDB provide for data protection?\n",
        "**Ans**- MongoDB provides several robust **security mechanisms** to protect our data at rest, in transit, and during access. These mechanisms ensure **confidentiality**, **integrity**, **authentication**, and **authorization** for secure data management.\n",
        "\n",
        "**MongoDB Security Mechanisms**\n",
        "1. **Authentication**\n",
        "\n",
        "Ensures that only **verified users or applications** can access the database.\n",
        "* **SCRAM**: Salted Challenge Response Authentication Mechanism.\n",
        "* **x.509 certificates**: For internal cluster node authentication and external clients.\n",
        "* **LDAP**: Integrate with enterprise directory services.\n",
        "* **Kerberos**: For enterprise-level single sign-on.\n",
        "* **AWS IAM**: Role-based access via cloud identity.\n",
        "\n",
        "**Example:**"
      ],
      "metadata": {
        "id": "uDtjsA2IWu9J"
      }
    },
    {
      "cell_type": "code",
      "source": [
        "mongod --auth"
      ],
      "metadata": {
        "id": "9SHV0pT3fE0B"
      },
      "execution_count": null,
      "outputs": []
    },
    {
      "cell_type": "markdown",
      "source": [
        "2. **Authorization**\n",
        "\n",
        "Controls **what authenticated users can do** using **role-based access control**.\n",
        "* Built-in roles: `read`, `readWrite`, `dbAdmin`, etc.\n",
        "* Custom roles: Define fine-grained permissions.\n",
        "* Permissions can be scoped to:\n",
        "\n",
        "  * Specific databases\n",
        "  * Collections\n",
        "  * Actions (e.g., `insert`, `update`, `index`, `drop`)\n",
        "\n",
        "**Example:**"
      ],
      "metadata": {
        "id": "ui1zALENfKFy"
      }
    },
    {
      "cell_type": "code",
      "source": [
        "db.createUser({\n",
        "  user: \"analyst\",\n",
        "  pwd: \"securePass123\",\n",
        "  roles: [ { role: \"read\", db: \"salesDB\" } ]\n",
        "})"
      ],
      "metadata": {
        "id": "AGUQ5fm_rqWM"
      },
      "execution_count": null,
      "outputs": []
    },
    {
      "cell_type": "markdown",
      "source": [
        "3. **Encryption**\n",
        "\n",
        "* At Rest\n",
        "  * **MongoDB Enterprise**: Native **Encrypted Storage Engine** encrypts all data at rest.\n",
        "  * Use **FIPS 140-2 validated encryption** standards.\n",
        "  * Option to integrate with **Key Management Systems**.\n",
        "\n",
        "* In Transit\n",
        "  * TLS/SSL encryption for all client-server and inter-node communications.\n",
        "  * Prevents data sniffing, tampering, and man-in-the-middle attacks.\n",
        "\n",
        "* Enable with:"
      ],
      "metadata": {
        "id": "CmRjcg9frvt6"
      }
    },
    {
      "cell_type": "code",
      "source": [
        "mongod --tlsMode requireTLS --tlsCertificateKeyFile cert.pem"
      ],
      "metadata": {
        "id": "kPZU1H0Jr_rw"
      },
      "execution_count": null,
      "outputs": []
    },
    {
      "cell_type": "markdown",
      "source": [
        "4. **Auditing**\n",
        "  * Available in **MongoDB Enterprise**.\n",
        "  * Logs access and operations for compliance.\n",
        "  * Tracks who did what, when, and how.\n",
        "\n",
        "5. **IP Whitelisting**\n",
        "  * Allows access only from **trusted IP addresses**.\n",
        "  * Prevents unauthorized network-level access.\n",
        "\n",
        "6. **Field-Level Redaction & Client-Side Encryption**\n",
        "  * **Field-Level Encryption**: Encrypt individual fields at the application level.\n",
        "  * **Only client apps** with keys can decrypt sensitive fields.\n",
        "  * Even DB admins can't view encrypted data.\n",
        "\n",
        "**FLE Use Cases:**\n",
        "  * Healthcare records\n",
        "  * Financial transactions\n",
        "  * Personally identifiable information\n",
        "\n",
        "7. **Security Best Practices**\n",
        "  * Disable direct access to ports using **firewalls**.\n",
        "  * Run MongoDB with **authentication  enabled**.\n",
        "  * Avoid using the `admin` database for app users.\n",
        "  * Keep MongoDB **up to date** with security patches.\n",
        "  * Monitor access with **MongoDB Atlas monitoring tools** or third-party integrations."
      ],
      "metadata": {
        "id": "Z7eRHqQSsGey"
      }
    },
    {
      "cell_type": "markdown",
      "source": [
        "##Q 15. Explain the concept of embedded documents and when they should be used?\n",
        "**Ans** - In **MongoDB**, an **embedded document** is a document **nested inside another document** as a field value. This is one of the core features of MongoDB’s **document-oriented** data model, allowing related data to be stored together in a **single document** rather than in separate collections.\n",
        "\n",
        "An embedded document is a **subdocument** contained within a parent document. MongoDB supports documents with complex, hierarchical data structures using **BSON**.\n",
        "\n",
        "**Example:**"
      ],
      "metadata": {
        "id": "gM-193WXWvNh"
      }
    },
    {
      "cell_type": "code",
      "source": [
        "{\n",
        "  \"_id\": 1,\n",
        "  \"name\": \"Alice\",\n",
        "  \"email\": \"alice@example.com\",\n",
        "  \"address\": {\n",
        "    \"street\": \"123 Main St\",\n",
        "    \"city\": \"Mumbai\",\n",
        "    \"zip\": \"400001\"\n",
        "  }\n",
        "}"
      ],
      "metadata": {
        "id": "cCcK3IFts4-8"
      },
      "execution_count": null,
      "outputs": []
    },
    {
      "cell_type": "markdown",
      "source": [
        "Here, the `address` field is an **embedded document**.\n",
        "\n",
        "**Advantages of Embedded Documents**\n",
        "\n",
        "| Benefit | Description |\n",
        "|-||\n",
        "| **Data locality** | Related data is stored together for faster reads |\n",
        "| **Fewer joins or lookups** | Reduces the need for expensive `$lookup` queries (like SQL joins) |\n",
        "| **Atomic operations** | Updates to a document and its embedded fields are atomic |\n",
        "| **Simpler application logic** | Easier to retrieve complete records in one query |\n",
        "\n",
        "**When to Use Embedded Documents**\n",
        "\n",
        "we should **embed** when:\n",
        "\n",
        "1. **One-to-One Relationships**\n",
        "  * Example: A user with a single profile or settings document.\n",
        "\n",
        "2. **One-to-Few Relationships**\n",
        "  * Example: A blog post with a few comments (e.g., less than 10).\n",
        "\n",
        "3. **Data that is always accessed together**\n",
        "  * Improves performance by retrieving all needed data in a single read.\n",
        "\n",
        "4. **Data that doesn’t grow unbounded**\n",
        "  * MongoDB has a **16MB document size limit**.\n",
        "\n",
        "**When NOT to Use Embedded Documents**\n",
        "\n",
        "Avoid embedding when:\n",
        "\n",
        "1. **Data grows indefinitely**\n",
        "  * E.g., user comments, order history, or activity logs with unbounded growth.\n",
        "\n",
        "2. **Data is accessed separately**\n",
        "  * If subdocuments are queried independently, separate collections might be better.\n",
        "\n",
        "3. **Many-to-Many relationships**\n",
        "  * Embedding complex, multi-linked data structures leads to data duplication or inconsistencies.\n",
        "\n",
        "4. **Large or deeply nested structures**\n",
        "  * MongoDB limits:\n",
        "\n",
        "     * Document size: **16MB**\n",
        "     * Nesting depth: **100 levels**\n",
        "\n",
        "**Embedded vs Referenced Documents**\n",
        "\n",
        "| Feature | **Embedded Documents** | **Referenced Documents** |\n",
        "|-|||\n",
        "| Storage | Single document | Separate documents with references (ObjectId) |\n",
        "| Read performance | Faster (no join needed) | May require `$lookup` or multiple queries |\n",
        "| Write/update | Atomic and simpler | May involve multiple documents/transactions |\n",
        "| Relationship type | One-to-one or one-to-few | One-to-many or many-to-many |\n",
        "\n",
        "**Example Use Case: Order with Items**\n",
        "\n",
        "* Embedded:"
      ],
      "metadata": {
        "id": "NbrHmk31s_BL"
      }
    },
    {
      "cell_type": "code",
      "source": [
        "{\n",
        "  \"_id\": 1001,\n",
        "  \"customer\": \"Vivek\",\n",
        "  \"items\": [\n",
        "    { \"product\": \"Laptop\", \"qty\": 1 },\n",
        "    { \"product\": \"Mouse\", \"qty\": 2 }\n",
        "  ]\n",
        "}"
      ],
      "metadata": {
        "id": "bLZUjSXtwLlR"
      },
      "execution_count": null,
      "outputs": []
    },
    {
      "cell_type": "markdown",
      "source": [
        "**Referenced (if items are many or reused):**"
      ],
      "metadata": {
        "id": "qIajHia5wQ6n"
      }
    },
    {
      "cell_type": "code",
      "source": [
        "{\n",
        "  \"_id\": 1001,\n",
        "  \"customer\": \"Vivek\",\n",
        "  \"item_ids\": [ ObjectId(\"...\"), ObjectId(\"...\") ]\n",
        "}"
      ],
      "metadata": {
        "id": "PGlU4GKPwX5A"
      },
      "execution_count": null,
      "outputs": []
    },
    {
      "cell_type": "markdown",
      "source": [
        "##Q 16. What is the purpose of MongoDB’s $lookup stage in aggregation?\n",
        "**Ans** - The **`$lookup`** stage in MongoDB’s **aggregation pipeline** is used to **perform a left outer join** between documents in one collection and documents in another collection. It allows us to **combine data from multiple collections** in a way that’s similar to the `JOIN` operation in SQL.\n",
        "\n",
        "**Purpose of `$lookup`**\n",
        "* To **enrich documents** by embedding related data from a different collection.\n",
        "* To **simulate JOINs** in MongoDB, which is otherwise non-relational.\n",
        "* Useful in scenarios like:\n",
        "\n",
        "  * Merging `orders` with customer details.\n",
        "  * Showing products with their supplier information.\n",
        "  * Displaying users with their roles or permissions.\n",
        "\n",
        "**Syntax of `$lookup`**"
      ],
      "metadata": {
        "id": "QKCZYoIdWvfK"
      }
    },
    {
      "cell_type": "code",
      "source": [
        "{\n",
        "  $lookup: {\n",
        "    from: \"otherCollection\",           // The collection to join with\n",
        "    localField: \"localFieldName\",      // Field in the current collection\n",
        "    foreignField: \"foreignFieldName\",  // Field in the other collection\n",
        "    as: \"outputArrayField\"             // Name of the new array field with matched documents\n",
        "  }\n",
        "}"
      ],
      "metadata": {
        "id": "HZloYjrWw1rH"
      },
      "execution_count": null,
      "outputs": []
    },
    {
      "cell_type": "markdown",
      "source": [
        "**Example**\n",
        "\n",
        "Assume two collections:\n",
        "\n",
        "**orders**"
      ],
      "metadata": {
        "id": "LZ7XKdQ9w-V4"
      }
    },
    {
      "cell_type": "code",
      "source": [
        "{\n",
        "  \"_id\": 1,\n",
        "  \"product\": \"Laptop\",\n",
        "  \"customerId\": 101\n",
        "}"
      ],
      "metadata": {
        "id": "diBI1XCmx1fJ"
      },
      "execution_count": null,
      "outputs": []
    },
    {
      "cell_type": "markdown",
      "source": [
        "**customers**"
      ],
      "metadata": {
        "id": "-ovZiEQgx7n4"
      }
    },
    {
      "cell_type": "code",
      "source": [
        "{\n",
        "  \"_id\": 101,\n",
        "  \"name\": \"Vivek\",\n",
        "  \"email\": \"vivek@example.com\"\n",
        "}"
      ],
      "metadata": {
        "id": "s8OuGdqCyCzY"
      },
      "execution_count": null,
      "outputs": []
    },
    {
      "cell_type": "markdown",
      "source": [
        "**Aggregation with `$lookup`:**"
      ],
      "metadata": {
        "id": "rottgdWKyIYA"
      }
    },
    {
      "cell_type": "code",
      "source": [
        "db.orders.aggregate([\n",
        "  {\n",
        "    $lookup: {\n",
        "      from: \"customers\",\n",
        "      localField: \"customerId\",\n",
        "      foreignField: \"_id\",\n",
        "      as: \"customerDetails\"\n",
        "    }\n",
        "  }\n",
        "])"
      ],
      "metadata": {
        "id": "AhoBOjF6yNR3"
      },
      "execution_count": null,
      "outputs": []
    },
    {
      "cell_type": "markdown",
      "source": [
        "**Result:**"
      ],
      "metadata": {
        "id": "Tz3u1ajvySTX"
      }
    },
    {
      "cell_type": "code",
      "source": [
        "{\n",
        "  \"_id\": 1,\n",
        "  \"product\": \"Laptop\",\n",
        "  \"customerId\": 101,\n",
        "  \"customerDetails\": [\n",
        "    {\n",
        "      \"_id\": 101,\n",
        "      \"name\": \"Vivek\",\n",
        "      \"email\": \"vivek@example.com\"\n",
        "    }\n",
        "  ]\n",
        "}"
      ],
      "metadata": {
        "id": "gYzILQM8ye5Q"
      },
      "execution_count": null,
      "outputs": []
    },
    {
      "cell_type": "markdown",
      "source": [
        "**Advanced `$lookup` with Pipeline (MongoDB 3.6+)**\n",
        "\n",
        "Allows more control over matching and transformation during the join."
      ],
      "metadata": {
        "id": "y5kvXgIwyk5I"
      }
    },
    {
      "cell_type": "code",
      "source": [
        "{\n",
        "  $lookup: {\n",
        "    from: \"orders\",\n",
        "    let: { user_id: \"$_id\" },\n",
        "    pipeline: [\n",
        "      { $match: { $expr: { $eq: [\"$customerId\", \"$$user_id\"] } } },\n",
        "      { $project: { product: 1, _id: 0 } }\n",
        "    ],\n",
        "    as: \"orders\"\n",
        "  }\n",
        "}"
      ],
      "metadata": {
        "id": "rwt3lMvHy0m_"
      },
      "execution_count": null,
      "outputs": []
    },
    {
      "cell_type": "markdown",
      "source": [
        "**Characteristics**\n",
        "\n",
        "| Feature | Description |\n",
        "|-||\n",
        "| Join Type | Left outer join only (not inner or full joins) |\n",
        "| Output Format | Matched documents appear as an **array** (`as` field) |\n",
        "| Performance Impact | Can be heavy if joining large collections |\n",
        "| Supports Pipelines | Yes, advanced syntax allows use of pipelines inside `$lookup` |\n",
        "| Sharded Support | Available with restrictions (MongoDB 5.0+ improves support) |\n",
        "\n",
        "**Best Use Cases**\n",
        "\n",
        "* One-to-one or one-to-few relationships between collections.\n",
        "* When we need to enrich or denormalize data for reporting or display.\n",
        "* Reducing the need for multiple client-side queries.\n",
        "\n",
        "**Performance Tips**\n",
        "\n",
        "* Ensure **indexed fields** on `foreignField` for faster joins.\n",
        "* Avoid joining very large datasets unless necessary.\n",
        "* Use `$project` after `$lookup` to trim down large documents."
      ],
      "metadata": {
        "id": "0RvrR11Ny6MQ"
      }
    },
    {
      "cell_type": "markdown",
      "source": [
        "##Q 17. What are some common use cases for MongoDB?\n",
        "**Ans**- MongoDB is a highly flexible, scalable, and schema-less NoSQL database that supports a wide range of real-world applications. Its document-oriented data model, rich query capabilities, and ability to scale horizontally make it ideal for many modern use cases.\n",
        "\n",
        "**Common Use Cases for MongoDB**\n",
        "1. **Content Management Systems**\n",
        "\n",
        "MongoDB excels in CMS platforms due to its flexible schema and support for diverse content types.\n",
        "* Blogs, news sites, product catalogs\n",
        "* Easily store metadata, user-generated content, media references\n",
        "* Example: Storing articles with tags, author info, embedded comments\n",
        "\n",
        "2. **Real-Time Analytics**\n",
        "\n",
        "MongoDB can store, process, and analyze large volumes of semi-structured data in real-time.\n",
        "* Tracking user behavior, clickstream data\n",
        "* IoT sensor data aggregation\n",
        "* Mobile app usage patterns\n",
        "\n",
        "3. **E-commerce Platforms**\n",
        "\n",
        "MongoDB is great for handling complex and rapidly changing product catalogs and orders.\n",
        "* Product details with variable attributes\n",
        "* Customer profiles and wishlists\n",
        "* Orders with embedded items and payment history\n",
        "\n",
        "Its flexible data model allows adding new product fields without schema migrations.\n",
        "\n",
        "4. **Mobile and Web Applications**\n",
        "\n",
        "MongoDB’s JSON-like document structure pairs naturally with frontend frameworks and REST APIs.\n",
        "* Offline-first apps with local data sync\n",
        "* Session storage and user preferences\n",
        "* Fast prototyping with dynamic data structures\n",
        "\n",
        "5. **Internet of Things**\n",
        "\n",
        "IoT devices generate high-velocity and high-volume data, which MongoDB handles well.\n",
        "\n",
        "* Time-series data from devices\n",
        "* Geo-location tracking\n",
        "* Device configurations and logs\n",
        "\n",
        "Integration with time-series collections (MongoDB 5.0+) further improves performance.\n",
        "\n",
        "6. **Catalogs and Inventory Management**\n",
        "\n",
        "MongoDB's document model supports dynamic product schemas, variant handling, and hierarchical categories.\n",
        "* Store complex objects with pricing, stock, and supplier details\n",
        "* Track changes and restocks efficiently\n",
        "\n",
        "7. **Gaming Applications**\n",
        "\n",
        "MongoDB is used to store player profiles, achievements, scores, and game state in a flexible way.\n",
        "* Leaderboards and multiplayer state tracking\n",
        "* Inventory systems with item data\n",
        "* Live chat systems\n",
        "\n",
        "8. **Customer Data Platforms & CRMs**\n",
        "\n",
        "Easily manage customer 360° views with various attributes (purchases, interactions, support logs).\n",
        "* Single view of customer across channels\n",
        "* User segmentation and personalization\n",
        "\n",
        "9. **Log Management**\n",
        "\n",
        "MongoDB is frequently used as a log storage engine for applications and servers.\n",
        "* Centralized logging for microservices\n",
        "* Structured log storage and querying\n",
        "* Integrated with ELK or custom analytics tools\n",
        "\n",
        "10. **Data Lake and Archival Systems**\n",
        "\n",
        "MongoDB can serve as a lightweight data lake or archive solution for JSON or semi-structured data.\n",
        "* Ingest from multiple sources (APIs, events)\n",
        "* Long-term storage of unstructured documents"
      ],
      "metadata": {
        "id": "_NzgiSwcWvtx"
      }
    },
    {
      "cell_type": "markdown",
      "source": [
        "##Q 18.What are the advantages of using MongoDB for horizontal scaling?\n",
        "**Ans**- Using **MongoDB** for **horizontal scaling** offers several advantages, especially for applications that deal with **large datasets**, require **high availability**, and experience **variable or unpredictable traffic patterns**. Horizontal scaling in MongoDB is primarily achieved through **sharding**.\n",
        "\n",
        "**Horizontal scaling** means **adding more servers** to distribute the database load, as opposed to vertical scaling, which means upgrading the existing server’s hardware.\n",
        "\n",
        "In MongoDB, this is done using **sharding** — partitioning the data across multiple servers or clusters.\n",
        "\n",
        "**Advantages of Using MongoDB for Horizontal Scaling**\n",
        "1. **Handles Massive Data Volumes**\n",
        "\n",
        "* MongoDB can store **billions of documents** across multiple servers.\n",
        "* As our data grows, we simply **add more shards** — no need to re-architect the application.\n",
        "\n",
        "2. **Improved Read and Write Performance**\n",
        "\n",
        "* Distributes read and write loads across shards.\n",
        "* **Parallel query execution** boosts performance for large datasets.\n",
        "* Helps maintain low latency even under high traffic.\n",
        "\n",
        "3. **Automatic Data Distribution**\n",
        "\n",
        "* MongoDB’s sharded cluster automatically balances data based on the **shard key**.\n",
        "* When data is uneven, it automatically **rebalances chunks** to keep load distribution optimal.\n",
        "\n",
        "4. **Elastic Scalability**\n",
        "\n",
        "* Scale out **on demand** — add or remove shards without taking the system offline.\n",
        "* Supports both **manual scaling** and **auto-scaling**.\n",
        "\n",
        "5. **Cost-Effective Scaling**\n",
        "\n",
        "* Rather than investing in expensive high-performance machines, we can use **commodity hardware**.\n",
        "* Lower total cost of ownership, especially for startups or fast-growing apps.\n",
        "\n",
        "6. **Fault Isolation and Availability**\n",
        "\n",
        "* If one shard goes down, **only part of the data is affected**, not the entire database.\n",
        "* With **replica sets on each shard**, MongoDB ensures **high availability and failover support**.\n",
        "\n",
        "7. **Geographical Distribution**\n",
        "\n",
        "* we can shard based on **region**, placing data physically closer to users.\n",
        "* Reduces latency for global applications and complies with **data locality regulations**.\n",
        "\n",
        "8. **Custom Shard Keys for Optimization**\n",
        "\n",
        "* we can choose a **shard key** that aligns with our query pattern.\n",
        "* This helps distribute load effectively and avoids **hotspots**.\n",
        "\n",
        "**Real-World Scenarios Benefiting from Horizontal Scaling**\n",
        "\n",
        "| Scenario | Why Horizontal Scaling Helps |\n",
        "|-||\n",
        "| E-commerce site with 10M+ users | Handles concurrent checkouts and product views |\n",
        "| IoT platform with billions of events | Efficient ingestion and querying of time-series data |\n",
        "| Social media app with global users | Region-based sharding and latency reduction |\n",
        "| Log aggregation system | Continuous write-heavy workloads handled smoothly |"
      ],
      "metadata": {
        "id": "R0t2YuVyWv8J"
      }
    },
    {
      "cell_type": "markdown",
      "source": [
        "##Q 19. How do MongoDB transactions differ from SQL transactions?\n",
        "**Ans** - MongoDB and SQL databases both support **transactions** to ensure data consistency and integrity, but they differ significantly in **scope**, **design philosophy**, and **default behavior** due to the **NoSQL vs SQL** data model.\n",
        "\n",
        "Here’s a detailed comparison:\n",
        "\n",
        "1. **Data Model**\n",
        "\n",
        "| Feature | **MongoDB** | **SQL (Relational DBs)** |\n",
        "|-|||\n",
        "| Model | Document-oriented (JSON/BSON) | Table-based (rows and columns) |\n",
        "| Structure | Nested/embedded documents | Strictly normalized relational schema |\n",
        "| Transaction Use | Often avoidable due to embedded documents | Required for cross-table integrity |\n",
        "\n",
        "**MongoDB's flexible schema often reduces the need for multi-document transactions**, unlike SQL where normalization often forces multiple tables and thus requires transactions.\n",
        "\n",
        "2. **Transaction Scope**\n",
        "\n",
        "| Scope | **MongoDB** | **SQL** |\n",
        "|-|||\n",
        "| Single-document | Always atomic | Requires a transaction for atomicity |\n",
        "| Multi-document  | Supported since v4.0 (replica sets), v4.2 (sharded clusters) | Native support for multi-table transactions |\n",
        "\n",
        "**SQL supports multi-table transactions by default**.\n",
        "MongoDB supports **multi-document ACID transactions**, but they’re more recent and **less efficient** for high-volume workloads compared to single-document ops.\n",
        "\n",
        "3. **ACID Properties**\n",
        "\n",
        "| Property | MongoDB | SQL |\n",
        "|-|||\n",
        "| Atomicity | Always atomic at document level | Always atomic in transactions |\n",
        "| Consistency | Enforced via validation rules | Enforced via schema & constraints |\n",
        "| Isolation | Snapshot isolation for transactions | Stronger and customizable |\n",
        "| Durability  | Journaling + write concern | Transaction logs (WAL) |\n",
        "\n",
        "Both systems **support full ACID transactions**, but **SQL has more mature isolation levels** with fine-tuning options.\n",
        "\n",
        "4. **Write Behavior and Performance**\n",
        "\n",
        "| Behavior | **MongoDB** | **SQL** |\n",
        "|-|||\n",
        "| Write overhead | Lightweight unless using transactions    | Depends on transaction complexity       |\n",
        "| Best for       | High-throughput, denormalized workloads  | Highly structured, relational workloads |\n",
        "| Default write  | No transaction unless explicitly started | Often batched inside a transaction      |\n",
        "\n",
        "In MongoDB, **most operations are outside transactions by default** unless explicitly defined with `startTransaction()` in a session.\n",
        "\n",
        "5. **Usage Syntax Comparison**\n",
        "\n",
        "**SQL:**"
      ],
      "metadata": {
        "id": "TEwo0J-rWwNx"
      }
    },
    {
      "cell_type": "code",
      "source": [
        "BEGIN;\n",
        "UPDATE accounts SET balance = balance - 100 WHERE id = 1;\n",
        "UPDATE accounts SET balance = balance + 100 WHERE id = 2;\n",
        "COMMIT;"
      ],
      "metadata": {
        "id": "VUiCwWe3sSpe"
      },
      "execution_count": null,
      "outputs": []
    },
    {
      "cell_type": "markdown",
      "source": [
        "**MongoDB (PyMongo):**"
      ],
      "metadata": {
        "id": "TCV7znFzsXw-"
      }
    },
    {
      "cell_type": "code",
      "source": [
        "with client.start_session() as session:\n",
        "    with session.start_transaction():\n",
        "        collection.update_one({\"_id\": 1}, {\"$inc\": {\"balance\": -100}}, session=session)\n",
        "        collection.update_one({\"_id\": 2}, {\"$inc\": {\"balance\": 100}}, session=session)"
      ],
      "metadata": {
        "id": "G0VgXJ6asjje"
      },
      "execution_count": null,
      "outputs": []
    },
    {
      "cell_type": "markdown",
      "source": [
        "6. **Sharding and Transactions**\n",
        "\n",
        "| Feature | **MongoDB** | **SQL (e.g., PostgreSQL, MySQL)** |\n",
        "|-|||\n",
        "| Sharded cluster | Multi-document transactions supported from v4.2+ | Typically no built-in sharding |\n",
        "| Distributed TXs | More complex, slower across shards | Requires third-party tools or clusters |\n",
        "\n",
        "MongoDB supports **distributed transactions**, but they are **less performant** than single-shard or single-document operations."
      ],
      "metadata": {
        "id": "JXjaReJosoG1"
      }
    },
    {
      "cell_type": "markdown",
      "source": [
        "##Q 20. What are the main differences between capped collections and regular collections?\n",
        "**Ans** - **Capped collections** and **regular collections** in MongoDB serve different purposes, especially in terms of **data lifecycle**, **performance**, and **storage behavior**. comparison of the main differences:\n",
        "\n",
        "1. **Definition**\n",
        "\n",
        "| Collection Type | Description |\n",
        "|-||\n",
        "| **Regular Collection** | A standard MongoDB collection that stores documents with no size or order constraints. |\n",
        "| **Capped Collection** | A fixed-size collection that **automatically overwrites the oldest documents** when it reaches its size limit. |\n",
        "\n",
        "2. **Storage Behavior**\n",
        "\n",
        "| Feature | **Regular Collection** | **Capped Collection** |\n",
        "|-|||\n",
        "| **Size Limit** | Unlimited (depends on disk size) | Fixed-size (defined at creation) |\n",
        "| **Document Overwrite** | No automatic deletion or overwrite | Oldest documents are overwritten when full |\n",
        "| **Insert Order** | No guaranteed order | Maintains **insertion order** |\n",
        "| **Deletion** | You can delete any document | **Explicit deletions not allowed** (except via overwrite) |\n",
        "\n",
        "3. **Use Cases**\n",
        "\n",
        "| Use Case | Capped Collection | Regular Collection |\n",
        "|-|||\n",
        "| **Logging or event streaming** | Ideal — keeps latest logs | Not efficient |\n",
        "| **Real-time dashboards** | Efficient with fixed data window | Works, but less efficient |\n",
        "| **User profiles, orders, products** | Not suitable | Perfect use case |\n",
        "| **Data archiving** | Not suitable | Recommended |\n",
        "\n",
        "4. **Performance**\n",
        "\n",
        "| Feature | **Capped Collection** | **Regular Collection** |\n",
        "|-|||\n",
        "| **Write Performance** | Very fast (no index maintenance, no disk reallocation) | Fast but depends on indexes |\n",
        "| **Query Performance** | Optimized for **circular buffer-like reads** | Flexible but may require indexes |\n",
        "| **Update Limitations** | Cannot change document size after insert | Can modify document freely |\n",
        "\n",
        "5. **Creation Example**\n",
        "\n",
        "Regular Collection:"
      ],
      "metadata": {
        "id": "p2GZPmQnWwd5"
      }
    },
    {
      "cell_type": "code",
      "source": [
        "db.createCollection(\"users\")"
      ],
      "metadata": {
        "id": "8ZJCNA4cwg91"
      },
      "execution_count": null,
      "outputs": []
    },
    {
      "cell_type": "markdown",
      "source": [
        "Capped Collection:"
      ],
      "metadata": {
        "id": "Gl3_bCODwmBS"
      }
    },
    {
      "cell_type": "code",
      "source": [
        "db.createCollection(\"logs\", {\n",
        "  capped: true,\n",
        "  size: 5242880,   // Size in bytes (e.g., 5MB)\n",
        "  max: 5000        // Optional: Max number of documents\n",
        "})"
      ],
      "metadata": {
        "id": "xJ1bdIVdwxYI"
      },
      "execution_count": null,
      "outputs": []
    },
    {
      "cell_type": "markdown",
      "source": [
        "6. **Feature Limitations of Capped Collections**\n",
        "\n",
        "| Limitation | Description |\n",
        "|-||\n",
        "| No document deletion | Cannot delete specific documents manually |\n",
        "| No document resizing | Cannot update documents to increase their size |\n",
        "| No default indexes | Only `_id` index by default |\n",
        "| Limited use of queries | Supports a limited subset of query operators |"
      ],
      "metadata": {
        "id": "-be-ITlhw4mi"
      }
    },
    {
      "cell_type": "markdown",
      "source": [
        "##Q 21. What is the purpose of the $match stage in MongoDB’s aggregation pipeline?\n",
        "**Ans** - The **`$match`** stage in MongoDB’s **aggregation pipeline** is used to **filter documents** based on specified criteria—**similar to the `find()` query filter**. It allows us to include **only the documents that match a condition** for further processing in the pipeline.\n",
        "\n",
        "**Purpose of `$match`**\n",
        "\n",
        "* Filters input documents and **passes only the matching documents** to the next pipeline stage.\n",
        "* Helps **reduce the amount of data processed** in later stages, improving **efficiency and performance**.\n",
        "* Often placed **early in the pipeline** to limit the scope of processing.\n",
        "\n",
        "**Syntax**"
      ],
      "metadata": {
        "id": "bqYMXurJWws6"
      }
    },
    {
      "cell_type": "code",
      "source": [
        "{ $match: <query> }"
      ],
      "metadata": {
        "id": "4cNarpqkzEMN"
      },
      "execution_count": null,
      "outputs": []
    },
    {
      "cell_type": "markdown",
      "source": [
        "The `<query>` uses standard MongoDB query operators.\n",
        "\n",
        "**Example: Filter users older than 30**"
      ],
      "metadata": {
        "id": "rgEP5_mXzIz_"
      }
    },
    {
      "cell_type": "code",
      "source": [
        "db.users.aggregate([\n",
        "  {\n",
        "    $match: { age: { $gt: 30 } }\n",
        "  }\n",
        "])"
      ],
      "metadata": {
        "id": "ftP259txzUJW"
      },
      "execution_count": null,
      "outputs": []
    },
    {
      "cell_type": "markdown",
      "source": [
        "This filters and passes only documents where `age > 30` to the next stage.\n",
        "\n",
        "**Example: Combine with other pipeline stages**"
      ],
      "metadata": {
        "id": "DdewdSf8zYn2"
      }
    },
    {
      "cell_type": "code",
      "source": [
        "db.orders.aggregate([\n",
        "  { $match: { status: \"delivered\" } },\n",
        "  { $group: { _id: \"$customerId\", total: { $sum: \"$amount\" } } }\n",
        "])"
      ],
      "metadata": {
        "id": "72z1ra3VzlY9"
      },
      "execution_count": null,
      "outputs": []
    },
    {
      "cell_type": "markdown",
      "source": [
        "* `$match` filters only delivered orders.\n",
        "* `$group` calculates the total amount spent by each customer.\n",
        "\n",
        "**Benefits of Using `$match`**\n",
        "\n",
        "| Benefit | Description |\n",
        "|-||\n",
        "| **Improved performance** | Reduces documents early in the pipeline |\n",
        "| **Index utilization** | `$match` at the beginning can use indexes |\n",
        "| **Flexible filtering** | Supports complex conditions (`$and`, `$or`, `$in`, etc.) |\n",
        "| **Optimized aggregation** | Filters data before grouping, projecting, or sorting |\n",
        "\n",
        "**Complex Query Example**"
      ],
      "metadata": {
        "id": "yOm6DSb2zt8A"
      }
    },
    {
      "cell_type": "code",
      "source": [
        "db.products.aggregate([\n",
        "  {\n",
        "    $match: {\n",
        "      category: \"Electronics\",\n",
        "      price: { $gte: 5000, $lte: 50000 },\n",
        "      inStock: true\n",
        "    }\n",
        "  },\n",
        "  { $sort: { price: -1 } }\n",
        "])"
      ],
      "metadata": {
        "id": "4xfMrZ-s0NWt"
      },
      "execution_count": null,
      "outputs": []
    },
    {
      "cell_type": "markdown",
      "source": [
        "This filters for:\n",
        "\n",
        "* Electronics category\n",
        "* Price between ₹5000 and ₹50000\n",
        "* In-stock items only\n",
        "  Then sorts the filtered results in descending order by price.\n",
        "\n",
        "**Best Practices**\n",
        "\n",
        "* Place `$match` as **early as possible** in the pipeline.\n",
        "* Combine multiple `$match` conditions into one stage to reduce overhead.\n",
        "* Use `$match` instead of `$redact` when simple filtering is enough."
      ],
      "metadata": {
        "id": "Gxam-CQ70RtP"
      }
    },
    {
      "cell_type": "markdown",
      "source": [
        "##Q 22. How can you secure access to a MongoDB database?\n",
        "**Ans** - Securing access to a MongoDB database is **critical** for protecting sensitive data and preventing unauthorized access. MongoDB offers a comprehensive set of **security features** that can be combined to build a robust defense.\n",
        "\n",
        "We can secure MongoDB step by step:\n",
        "\n",
        "1. **Enable Authentication**\n",
        "\n",
        "By default, MongoDB does **not require authentication**. Always enable it in production.\n",
        "\n",
        "* Start MongoDB with `--auth` or set `security.authorization: enabled` in `mongod.conf`.\n",
        "* Create an **admin user** to manage the database."
      ],
      "metadata": {
        "id": "zf-mZ3m_Ww7p"
      }
    },
    {
      "cell_type": "code",
      "source": [
        "use admin\n",
        "db.createUser({\n",
        "  user: \"admin\",\n",
        "  pwd: \"strongPassword123\",\n",
        "  roles: [ { role: \"userAdminAnyDatabase\", db: \"admin\" } ]\n",
        "})"
      ],
      "metadata": {
        "id": "YeGsiOwt1Byc"
      },
      "execution_count": null,
      "outputs": []
    },
    {
      "cell_type": "markdown",
      "source": [
        "2. **Use Role-Based Access Control**\n",
        "\n",
        "Assign users **only the permissions they need** using predefined or custom roles.\n",
        "\n",
        "* Example:"
      ],
      "metadata": {
        "id": "71DB4GBW1Ics"
      }
    },
    {
      "cell_type": "code",
      "source": [
        "db.createUser({\n",
        "  user: \"appUser\",\n",
        "  pwd: \"secureAppPwd\",\n",
        "  roles: [ { role: \"readWrite\", db: \"myAppDB\" } ]\n",
        "})"
      ],
      "metadata": {
        "id": "cddniRfu2DhU"
      },
      "execution_count": null,
      "outputs": []
    },
    {
      "cell_type": "markdown",
      "source": [
        "3. **Enable TLS/SSL for Encrypted Connections**\n",
        "\n",
        "Encrypt all client-server and inter-node traffic using **TLS/SSL** to prevent man-in-the-middle attacks.\n",
        "\n",
        "How:\n",
        "\n",
        "* Generate TLS certificates.\n",
        "* Start MongoDB with:"
      ],
      "metadata": {
        "id": "it2qzAV_2Icb"
      }
    },
    {
      "cell_type": "code",
      "source": [
        "mongod --tlsMode requireTLS --tlsCertificateKeyFile /path/cert.pem"
      ],
      "metadata": {
        "id": "glolj4h62Ths"
      },
      "execution_count": null,
      "outputs": []
    },
    {
      "cell_type": "markdown",
      "source": [
        "4. **Use Strong Passwords and Keyfiles**\n",
        "\n",
        "* Enforce strong passwords for all users.\n",
        "* For replica sets, use **keyfiles** to authenticate communication between nodes.\n",
        "\n",
        "* Keyfile setup:"
      ],
      "metadata": {
        "id": "46VGEfO72a5F"
      }
    },
    {
      "cell_type": "code",
      "source": [
        "mongod --keyFile /path/to/keyfile"
      ],
      "metadata": {
        "id": "i-lr0JqQ2hAF"
      },
      "execution_count": null,
      "outputs": []
    },
    {
      "cell_type": "markdown",
      "source": [
        "5. **Network Access Control**\n",
        "\n",
        "Limit who can connect to our MongoDB instance.\n",
        "\n",
        "**Recommendations:**\n",
        "\n",
        "* Bind MongoDB to `localhost` unless remote access is needed:"
      ],
      "metadata": {
        "id": "wseqEOgT2lOj"
      }
    },
    {
      "cell_type": "code",
      "source": [
        "  net:\n",
        "    bindIp: 127.0.0.1"
      ],
      "metadata": {
        "id": "5ntfRwsW2wVl"
      },
      "execution_count": null,
      "outputs": []
    },
    {
      "cell_type": "markdown",
      "source": [
        "* Use firewalls or cloud security groups to allow access **only from trusted IPs**.\n",
        "\n",
        "6. **IP Whitelisting**\n",
        "\n",
        "If you're using **MongoDB Atlas**, configure a list of **trusted IP addresses** or CIDR ranges that are allowed to connect.\n",
        "\n",
        "7. **Enable Auditing**\n",
        "\n",
        "Track user activity for compliance (e.g., GDPR, HIPAA, PCI).\n",
        "\n",
        "* Logs actions like authentication, CRUD operations, schema changes.\n",
        "* Useful for **forensics and accountability**.\n",
        "\n",
        "8. **Use Field-Level Encryption**\n",
        "\n",
        "Encrypt sensitive fields**at the client-side** before sending data to the database.\n",
        "\n",
        "* Data remains encrypted even to DBAs or sysadmins.\n",
        "* Decryption requires **client-side keys**.\n",
        "\n",
        "9. **Disable Unused Interfaces**\n",
        "\n",
        "Disable unused network interfaces like HTTP status interface and REST API."
      ],
      "metadata": {
        "id": "lBL3thxm20QL"
      }
    },
    {
      "cell_type": "code",
      "source": [
        "net:\n",
        "  http:\n",
        "    enabled: false"
      ],
      "metadata": {
        "id": "KbJOpcI-3CHj"
      },
      "execution_count": null,
      "outputs": []
    },
    {
      "cell_type": "markdown",
      "source": [
        "10. **Keep MongoDB Up-to-Date**\n",
        "\n",
        "Always use the **latest stable release** to patch known vulnerabilities and bugs.\n",
        "\n",
        "11. **Monitor & Alert**\n",
        "\n",
        "* Use MongoDB Atlas monitoring or external tools (like Prometheus + Grafana).\n",
        "* Set up alerts for suspicious activity, slow queries, or connection anomalies."
      ],
      "metadata": {
        "id": "Qa7DyvnL3GJ0"
      }
    },
    {
      "cell_type": "markdown",
      "source": [
        "##Q 23. What is MongoDB’s WiredTiger storage engine, and why is it important?\n",
        "**Ans** - **WiredTiger** is MongoDB's default **storage engine**, introduced in **MongoDB 3.2** and used by default since **version 3.2 onward**. It plays a central role in how MongoDB **stores, manages, and accesses data on disk and in memory**.\n",
        "\n",
        "**WiredTiger** is a high-performance, modern storage engine designed for:\n",
        "* **Concurrency**: Supports multiple simultaneous read and write operations.\n",
        "* **Compression**: Uses data compression to reduce disk space.\n",
        "* **Caching**: Efficient memory usage and cache management.\n",
        "* **Checkpointing and Journaling**: Ensures durability and crash recovery.\n",
        "\n",
        "**WiredTiger is Important**\n",
        "1. **Improved Performance and Scalability**\n",
        "\n",
        "* Uses **document-level concurrency control** (vs older MMAPv1's collection-level lock), allowing multiple users to update different documents in the same collection simultaneously.\n",
        "* Ideal for **multi-core systems**, enabling parallel processing.\n",
        "\n",
        "2. **Data Compression**\n",
        "\n",
        "* Supports **snappy** and **zlib** compression algorithms.\n",
        "* Reduces disk space usage significantly, which also improves I/O performance."
      ],
      "metadata": {
        "id": "DfME4cQjWxKp"
      }
    },
    {
      "cell_type": "code",
      "source": [
        "storage:\n",
        "  engine: wiredTiger\n",
        "  wiredTiger:\n",
        "    collectionConfig:\n",
        "      blockCompressor: snappy"
      ],
      "metadata": {
        "id": "hQMff6gh3dsL"
      },
      "execution_count": null,
      "outputs": []
    },
    {
      "cell_type": "markdown",
      "source": [
        "3. **Efficient Use of RAM (Cache)**\n",
        "\n",
        "* Uses a **built-in cache** that dynamically balances memory use between indexes and data.\n",
        "* Ensures efficient performance even with large working sets.\n",
        "\n",
        "4. **Crash-Safe with Journaling**\n",
        "\n",
        "* Provides **checkpointing** and **write-ahead journaling** for durability.\n",
        "* Ensures that MongoDB can recover cleanly after an unplanned shutdown or crash.\n",
        "\n",
        "5. **Fine-Grained Concurrency**\n",
        "\n",
        "* Unlike older engines that locked the entire database or collection, WiredTiger offers **concurrent access at the document level**, which is crucial for modern applications with high throughput.\n",
        "\n",
        "6. **Support for Encryption at Rest**\n",
        "\n",
        "* WiredTiger enables **encryption of stored data** when using MongoDB Enterprise or Atlas.\n",
        "\n",
        "7. **Customizable Configuration**\n",
        "\n",
        "You can tune WiredTiger for different workloads:\n",
        "\n",
        "* Change **compression settings**\n",
        "* Adjust **cache size**\n",
        "* Modify **journal and checkpoint intervals**\n",
        "\n",
        "**WiredTiger vs MMAPv1 (Old Engine)**\n",
        "\n",
        "| Feature | **WiredTiger** | **MMAPv1 (Deprecated)** |\n",
        "|-|||\n",
        "| Lock Granularity | Document-level | Collection-level |\n",
        "| Compression | Yes (Snappy, zlib) | No |\n",
        "| Write Performance | Much higher | Lower |\n",
        "| Cache Management  | Intelligent, dynamic | Limited |\n",
        "| Concurrency | Highly concurrent | Limited concurrency |\n",
        "| Durability | Journaling + checkpointing | Journaling only |"
      ],
      "metadata": {
        "id": "FVUp_ZOO3jBj"
      }
    },
    {
      "cell_type": "markdown",
      "source": [
        "# Practical"
      ],
      "metadata": {
        "id": "kgkY27V2XIAB"
      }
    },
    {
      "cell_type": "markdown",
      "source": [
        "##Q 1. Write a Python script to load the Superstore dataset from a CSV file into MongoDB.\n",
        "**Ans** -**load the Superstore dataset from a CSV file into MongoDB** using **`pymongo`** and **`pandas`**.\n",
        "\n",
        "* MongoDB is running locally on the default port.\n",
        "* The collection will be created in a database called `superstore_db` and named `orders`.\n",
        "* We're using the uploaded file: `/mnt/data/superstore.csv`.\n",
        "\n",
        "**Requirements**\n",
        "\n",
        "Make sure we have the following libraries installed:"
      ],
      "metadata": {
        "id": "GiK-0oI9XL0B"
      }
    },
    {
      "cell_type": "code",
      "source": [
        "pip install pymongo pandas"
      ],
      "metadata": {
        "id": "4NMigqKW5FEU"
      },
      "execution_count": null,
      "outputs": []
    },
    {
      "cell_type": "markdown",
      "source": [
        "Python Script"
      ],
      "metadata": {
        "id": "4lmTUxe55Kac"
      }
    },
    {
      "cell_type": "code",
      "source": [
        "import pandas as pd\n",
        "from pymongo import MongoClient\n",
        "\n",
        "# Load CSV into a pandas DataFrame\n",
        "csv_path = '/mnt/data/superstore.csv'\n",
        "df = pd.read_csv(csv_path)\n",
        "\n",
        "# Replace NaN with None to avoid issues during MongoDB insertion\n",
        "df = df.where(pd.notnull(df), None)\n",
        "\n",
        "# Convert DataFrame to list of dictionaries (records)\n",
        "records = df.to_dict(orient='records')\n",
        "\n",
        "# Connect to MongoDB\n",
        "client = MongoClient(\"mongodb://localhost:27017/\")  # Change URI if using MongoDB Atlas or remote\n",
        "\n",
        "# Create/use the database and collection\n",
        "db = client[\"superstore_db\"]\n",
        "collection = db[\"orders\"]\n",
        "\n",
        "# Optional: Drop collection if re-running the script to avoid duplicates\n",
        "collection.drop()\n",
        "\n",
        "# Insert the data\n",
        "collection.insert_many(records)\n",
        "\n",
        "print(f\"Inserted {len(records)} records into 'superstore_db.orders' collection.\")"
      ],
      "metadata": {
        "id": "LWhXUFcS5VzM"
      },
      "execution_count": null,
      "outputs": []
    },
    {
      "cell_type": "markdown",
      "source": [
        "##Q 2. Retrieve and print all documents from the Orders collection\n",
        "**Ans**- To retrieve and print all documents from the `orders` collection in MongoDB,we can use the following **Python script with PyMongo**:\n",
        "\n",
        "**Python Script to Read and Print All Documents**"
      ],
      "metadata": {
        "id": "DNels9SVXNSa"
      }
    },
    {
      "cell_type": "code",
      "source": [
        "from pymongo import MongoClient\n",
        "\n",
        "# Connect to MongoDB\n",
        "client = MongoClient(\"mongodb://localhost:27017/\")\n",
        "\n",
        "# Select the database and collection\n",
        "db = client[\"superstore_db\"]\n",
        "collection = db[\"orders\"]\n",
        "\n",
        "# Retrieve and print all documents\n",
        "all_orders = collection.find()\n",
        "\n",
        "for order in all_orders:\n",
        "    print(order)"
      ],
      "metadata": {
        "id": "KveBtHhM5unU"
      },
      "execution_count": null,
      "outputs": []
    },
    {
      "cell_type": "markdown",
      "source": [
        "**Notes:**\n",
        "\n",
        "* The `find()` method returns a **cursor**, so we can iterate over it efficiently.\n",
        "* Each document is printed as a Python dictionary, including the `_id` field automatically generated by MongoDB.\n",
        "\n",
        "**Optional: Pretty Print (Better Formatting)**"
      ],
      "metadata": {
        "id": "rxe14EGJ50jd"
      }
    },
    {
      "cell_type": "code",
      "source": [
        "from pprint import pprint\n",
        "\n",
        "for order in collection.find():\n",
        "    pprint(order)"
      ],
      "metadata": {
        "id": "fDHF0y9k6AVj"
      },
      "execution_count": null,
      "outputs": []
    },
    {
      "cell_type": "markdown",
      "source": [
        "This will make the output easier to read."
      ],
      "metadata": {
        "id": "9PGos2O76DvT"
      }
    },
    {
      "cell_type": "markdown",
      "source": [
        "##Q 3. Count and display the total number of documents in the Orders collection.\n",
        "**Ans**- To **count and display the total number of documents** in the `orders` collection from the `superstore_db` database using Python and `pymongo`\n",
        "\n",
        "**Python Code to Count Documents**"
      ],
      "metadata": {
        "id": "vqkAJhJ2XNsa"
      }
    },
    {
      "cell_type": "code",
      "source": [
        "from pymongo import MongoClient\n",
        "\n",
        "# Connect to MongoDB\n",
        "client = MongoClient(\"mongodb://localhost:27017/\")\n",
        "\n",
        "# Select the database and collection\n",
        "db = client[\"superstore_db\"]\n",
        "collection = db[\"orders\"]\n",
        "\n",
        "# Count documents\n",
        "total_orders = collection.count_documents({})\n",
        "\n",
        "# Display result\n",
        "print(f\"Total number of documents in 'orders' collection: {total_orders}\")"
      ],
      "metadata": {
        "id": "NmJ13VFq6VBE"
      },
      "execution_count": null,
      "outputs": []
    },
    {
      "cell_type": "markdown",
      "source": [
        "##Q 4. Write a query to fetch all orders from the \"West\" region\n",
        "**Ans** - To **fetch all orders from the \"West\" region** in the `orders` collection of our MongoDB database using Python and `pymongo`\n",
        "\n",
        "**Python Query to Filter by Region**"
      ],
      "metadata": {
        "id": "QEAewdbKXN8y"
      }
    },
    {
      "cell_type": "code",
      "source": [
        "from pymongo import MongoClient\n",
        "from pprint import pprint\n",
        "\n",
        "# Connect to MongoDB\n",
        "client = MongoClient(\"mongodb://localhost:27017/\")\n",
        "\n",
        "# Select the database and collection\n",
        "db = client[\"superstore_db\"]\n",
        "collection = db[\"orders\"]\n",
        "\n",
        "# Query: Find all orders from the \"West\" region\n",
        "west_orders = collection.find({ \"Region\": \"West\" })\n",
        "\n",
        "# Print each matching document\n",
        "for order in west_orders:\n",
        "    pprint(order)"
      ],
      "metadata": {
        "id": "oO4j_fci6rtz"
      },
      "execution_count": null,
      "outputs": []
    },
    {
      "cell_type": "markdown",
      "source": [
        "##Q 5. Write a query to find orders where Sales is greater than 500.\n",
        "**Ans** - To **find all orders where the `Sales` value is greater than 500** in our MongoDB `orders` collection using Python and `pymongo`, we can use a **query with the `$gt` operator**.\n",
        "\n",
        "**Python Query: Sales > 500**"
      ],
      "metadata": {
        "id": "v0O_tO4YXOLD"
      }
    },
    {
      "cell_type": "code",
      "source": [
        "from pymongo import MongoClient\n",
        "from pprint import pprint\n",
        "\n",
        "# Connect to MongoDB\n",
        "client = MongoClient(\"mongodb://localhost:27017/\")\n",
        "\n",
        "# Select the database and collection\n",
        "db = client[\"superstore_db\"]\n",
        "collection = db[\"orders\"]\n",
        "\n",
        "# Query: Find all orders where Sales > 500\n",
        "high_sales_orders = collection.find({ \"Sales\": { \"$gt\": 500 } })\n",
        "\n",
        "# Print matching documents\n",
        "for order in high_sales_orders:\n",
        "    pprint(order)"
      ],
      "metadata": {
        "id": "OFlkFvli7NRc"
      },
      "execution_count": null,
      "outputs": []
    },
    {
      "cell_type": "markdown",
      "source": [
        "##Q 6. Fetch the top 3 orders with the highest Profit.\n",
        "**Ans** - To **fetch the top 3 orders with the highest `Profit`** from the MongoDB `orders` collection using Python and `pymongo`,we can **sort the documents by `Profit` in descending order** and **limit** the result to 3.\n",
        "\n",
        "**Python Query: Top 3 Profitable Orders**"
      ],
      "metadata": {
        "id": "epQla6NgXOZD"
      }
    },
    {
      "cell_type": "code",
      "source": [
        "from pymongo import MongoClient\n",
        "from pprint import pprint\n",
        "\n",
        "# Connect to MongoDB\n",
        "client = MongoClient(\"mongodb://localhost:27017/\")\n",
        "\n",
        "# Select the database and collection\n",
        "db = client[\"superstore_db\"]\n",
        "collection = db[\"orders\"]\n",
        "\n",
        "# Query: Get top 3 orders by Profit in descending order\n",
        "top_profit_orders = collection.find().sort(\"Profit\", -1).limit(3)\n",
        "\n",
        "# Print the results\n",
        "for order in top_profit_orders:\n",
        "    pprint(order)"
      ],
      "metadata": {
        "id": "Pyy6cPAo7iW9"
      },
      "execution_count": null,
      "outputs": []
    },
    {
      "cell_type": "markdown",
      "source": [
        "##Q 7. Update all orders with Ship Mode as \"First Class\" to \"Premium Class.\"\n",
        "**Ans** - To **update all orders** in our MongoDB `orders` collection where `Ship Mode` is `\"First Class\"` and change it to `\"Premium Class\"`, we can use the `update_many()` method with a filter and `$set` update operator.\n",
        "\n",
        "Python Code: Update Ship Mode"
      ],
      "metadata": {
        "id": "M8wMx29iXOnK"
      }
    },
    {
      "cell_type": "code",
      "source": [
        "from pymongo import MongoClient\n",
        "\n",
        "# Connect to MongoDB\n",
        "client = MongoClient(\"mongodb://localhost:27017/\")\n",
        "\n",
        "# Select the database and collection\n",
        "db = client[\"superstore_db\"]\n",
        "collection = db[\"orders\"]\n",
        "\n",
        "# Update all documents where Ship Mode is \"First Class\"\n",
        "result = collection.update_many(\n",
        "    { \"Ship Mode\": \"First Class\" },\n",
        "    { \"$set\": { \"Ship Mode\": \"Premium Class\" } }\n",
        ")\n",
        "\n",
        "# Output the result\n",
        "print(f\"Modified {result.modified_count} documents.\")"
      ],
      "metadata": {
        "id": "T7BQRgQr2M0e"
      },
      "execution_count": null,
      "outputs": []
    },
    {
      "cell_type": "markdown",
      "source": [
        "##Q 8. Delete all orders where Sales is less than 50.\n",
        "**Ans**- To **delete all orders where the `Sales` value is less than 50** from our MongoDB `orders` collection using Python and `pymongo`,we can use the `delete_many()` method with a `$lt` (less than) filter.\n",
        "\n",
        "**Python Code: Delete Orders with Sales < 50**"
      ],
      "metadata": {
        "id": "nJ8-sM0PXO1D"
      }
    },
    {
      "cell_type": "code",
      "source": [
        "from pymongo import MongoClient\n",
        "\n",
        "# Connect to MongoDB\n",
        "client = MongoClient(\"mongodb://localhost:27017/\")\n",
        "\n",
        "# Select the database and collection\n",
        "db = client[\"superstore_db\"]\n",
        "collection = db[\"orders\"]\n",
        "\n",
        "# Delete all documents where Sales < 50\n",
        "result = collection.delete_many({ \"Sales\": { \"$lt\": 50 } })\n",
        "\n",
        "# Output the result\n",
        "print(f\"Deleted {result.deleted_count} documents.\")"
      ],
      "metadata": {
        "id": "qRNvpIK22gh1"
      },
      "execution_count": null,
      "outputs": []
    },
    {
      "cell_type": "markdown",
      "source": [
        "##Q 9. Use aggregation to group orders by Region and calculate total sales per region\n",
        "**Ans** - To **group orders by `Region`** and **calculate total sales per region** using MongoDB's **aggregation pipeline** with Python and `pymongo`, we can use the `$group` stage along with `$sum`.\n",
        "\n",
        "**Python Aggregation Query: Total Sales by Region**"
      ],
      "metadata": {
        "id": "6clcCN7HXPDH"
      }
    },
    {
      "cell_type": "code",
      "source": [
        "from pymongo import MongoClient\n",
        "from pprint import pprint\n",
        "\n",
        "# Connect to MongoDB\n",
        "client = MongoClient(\"mongodb://localhost:27017/\")\n",
        "\n",
        "# Select the database and collection\n",
        "db = client[\"superstore_db\"]\n",
        "collection = db[\"orders\"]\n",
        "\n",
        "# Aggregation pipeline to group by Region and sum Sales\n",
        "pipeline = [\n",
        "    {\n",
        "        \"$group\": {\n",
        "            \"_id\": \"$Region\",\n",
        "            \"total_sales\": { \"$sum\": \"$Sales\" }\n",
        "        }\n",
        "    },\n",
        "    {\n",
        "        \"$sort\": { \"total_sales\": -1 }  # Optional: Sort regions by total sales descending\n",
        "    }\n",
        "]\n",
        "\n",
        "# Run the aggregation\n",
        "results = collection.aggregate(pipeline)\n",
        "\n",
        "# Display the results\n",
        "print(\"Total Sales per Region:\")\n",
        "for result in results:\n",
        "    pprint(result)"
      ],
      "metadata": {
        "id": "-o9BlJWk25ot"
      },
      "execution_count": null,
      "outputs": []
    },
    {
      "cell_type": "markdown",
      "source": [
        "##Q 10. Fetch all distinct values for Ship Mode from the collection.\n",
        "**Ans** - To **fetch all distinct values** for the `Ship Mode` field from our MongoDB `orders` collection using Python and `pymongo`, we can use the `distinct()` method.\n",
        "\n",
        "**Python Code: Get Distinct `Ship Mode` Values**"
      ],
      "metadata": {
        "id": "hNmRRIXRXPQG"
      }
    },
    {
      "cell_type": "code",
      "source": [
        "from pymongo import MongoClient\n",
        "\n",
        "# Connect to MongoDB\n",
        "client = MongoClient(\"mongodb://localhost:27017/\")\n",
        "\n",
        "# Select the database and collection\n",
        "db = client[\"superstore_db\"]\n",
        "collection = db[\"orders\"]\n",
        "\n",
        "# Fetch all distinct Ship Mode values\n",
        "ship_modes = collection.distinct(\"Ship Mode\")\n",
        "\n",
        "# Print the result\n",
        "print(\"Distinct Ship Mode values:\")\n",
        "for mode in ship_modes:\n",
        "    print(\"-\", mode)"
      ],
      "metadata": {
        "id": "eUC63A493aQt"
      },
      "execution_count": null,
      "outputs": []
    },
    {
      "cell_type": "markdown",
      "source": [
        "##Q 11. Count the number of orders for each category.\n",
        "**Ans** - To **count the number of orders for each `Category`** in our MongoDB `orders` collection using Python and `pymongo`, we can use the **aggregation pipeline** with `$group` and `$count`.\n",
        "\n",
        "**Python Code: Count Orders by Category**"
      ],
      "metadata": {
        "id": "jmgeuu2IXPcq"
      }
    },
    {
      "cell_type": "code",
      "source": [
        "from pymongo import MongoClient\n",
        "from pprint import pprint\n",
        "\n",
        "# Connect to MongoDB\n",
        "client = MongoClient(\"mongodb://localhost:27017/\")\n",
        "\n",
        "# Select the database and collection\n",
        "db = client[\"superstore_db\"]\n",
        "collection = db[\"orders\"]\n",
        "\n",
        "# Aggregation pipeline\n",
        "pipeline = [\n",
        "    {\n",
        "        \"$group\": {\n",
        "            \"_id\": \"$Category\",\n",
        "            \"order_count\": { \"$sum\": 1 }\n",
        "        }\n",
        "    },\n",
        "    {\n",
        "        \"$sort\": { \"order_count\": -1 }  # Optional: sort descending\n",
        "    }\n",
        "]\n",
        "\n",
        "# Run aggregation\n",
        "results = collection.aggregate(pipeline)\n",
        "\n",
        "# Display results\n",
        "print(\"Order count per Category:\")\n",
        "for category in results:\n",
        "    pprint(category)"
      ],
      "metadata": {
        "id": "amfU_zvE38-d"
      },
      "execution_count": null,
      "outputs": []
    },
    {
      "cell_type": "markdown",
      "source": [
        "**Explanation:**\n",
        "\n",
        "* `$group`: Groups documents by `Category`.\n",
        "* `$sum: 1`: Counts one for each document in the group.\n",
        "* `$sort`: (Optional) Orders the output from most to least.\n",
        "\n",
        "**Example Output (Illustrative):**"
      ],
      "metadata": {
        "id": "nwKE1to-4DVV"
      }
    },
    {
      "cell_type": "code",
      "source": [
        "{'_id': 'Office Supplies', 'order_count': 1900}\n",
        "{'_id': 'Furniture', 'order_count': 1100}\n",
        "{'_id': 'Technology', 'order_count': 900}"
      ],
      "metadata": {
        "id": "tl0r9ovM4Ns9"
      },
      "execution_count": null,
      "outputs": []
    }
  ]
}